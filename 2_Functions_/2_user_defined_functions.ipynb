{
 "cells": [
  {
   "cell_type": "code",
   "execution_count": 1,
   "metadata": {},
   "outputs": [
    {
     "name": "stdout",
     "output_type": "stream",
     "text": [
      "I am dhiyotek\n"
     ]
    }
   ],
   "source": [
    "def firs_function():\n",
    "    print(\"I am dhiyotek\")\n",
    "firs_function()"
   ]
  },
  {
   "cell_type": "code",
   "execution_count": 2,
   "metadata": {},
   "outputs": [
    {
     "name": "stdout",
     "output_type": "stream",
     "text": [
      "I am dhiyotek\n"
     ]
    }
   ],
   "source": [
    "#for better programming we avoid to call like above\n",
    "def firs_function():\n",
    "    print(\"I am dhiyotek\")\n",
    "if __name__==\"__main__\":\n",
    "    firs_function()"
   ]
  },
  {
   "cell_type": "code",
   "execution_count": 5,
   "metadata": {},
   "outputs": [
    {
     "name": "stdout",
     "output_type": "stream",
     "text": [
      "I am dhiyotek,year is 2024\n"
     ]
    }
   ],
   "source": [
    "#Passing Arguments\n",
    "#Method 1 : Passing List of Arguments seperated by commas\n",
    "# Positional Arguments\n",
    "def firs_function(year,name):\n",
    "    print(f\"I am {year},year is {name}\")\n",
    "if __name__==\"__main__\":\n",
    "    name=\"dhiyotek\"\n",
    "    year=2024\n",
    "    firs_function(name,year)"
   ]
  },
  {
   "cell_type": "code",
   "execution_count": 6,
   "metadata": {},
   "outputs": [
    {
     "name": "stdout",
     "output_type": "stream",
     "text": [
      "I am 2024,year is dhiyotek\n"
     ]
    }
   ],
   "source": [
    "#Method 2 : Keyword Arguments\n",
    "def firs_function(year,name):\n",
    "    print(f\"I am {year},year is {name}\")\n",
    "if __name__==\"__main__\":\n",
    "    name=\"dhiyotek\"\n",
    "    year=2024\n",
    "    firs_function(name=\"dhiyotek\",year=2024)"
   ]
  },
  {
   "cell_type": "code",
   "execution_count": 7,
   "metadata": {},
   "outputs": [
    {
     "name": "stdout",
     "output_type": "stream",
     "text": [
      "I am dhiyotek,year is 2024\n"
     ]
    }
   ],
   "source": [
    "#Method 3 :: Default Arguments\n",
    "def firs_function(year=2024,name=\"dhiyotek\"):\n",
    "    print(f\"I am {name},year is {year}\")\n",
    "if __name__==\"__main__\":\n",
    "    name=\"dhiyotek\"\n",
    "    year=2024\n",
    "    firs_function()"
   ]
  },
  {
   "cell_type": "code",
   "execution_count": null,
   "metadata": {},
   "outputs": [],
   "source": [
    "#Method 4 : Variable length Positional Arguments\n",
    "def firs_function(year,name):\n",
    "    print(f\"I am {year},year is {name}\")\n",
    "if __name__==\"__main__\":\n",
    "    name=\"dhiyotek\"\n",
    "    year=2024\n",
    "    firs_function(name=\"dhiyotek\",year=2024)"
   ]
  }
 ],
 "metadata": {
  "kernelspec": {
   "display_name": "Python 3",
   "language": "python",
   "name": "python3"
  },
  "language_info": {
   "codemirror_mode": {
    "name": "ipython",
    "version": 3
   },
   "file_extension": ".py",
   "mimetype": "text/x-python",
   "name": "python",
   "nbconvert_exporter": "python",
   "pygments_lexer": "ipython3",
   "version": "3.11.5"
  }
 },
 "nbformat": 4,
 "nbformat_minor": 2
}
