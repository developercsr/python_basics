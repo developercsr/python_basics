{
 "cells": [
  {
   "cell_type": "code",
   "execution_count": 1,
   "metadata": {},
   "outputs": [
    {
     "name": "stdout",
     "output_type": "stream",
     "text": [
      "I am dhiyotek\n"
     ]
    }
   ],
   "source": [
    "def firs_function():\n",
    "    print(\"I am dhiyotek\")\n",
    "firs_function()"
   ]
  },
  {
   "cell_type": "code",
   "execution_count": 2,
   "metadata": {},
   "outputs": [
    {
     "name": "stdout",
     "output_type": "stream",
     "text": [
      "I am dhiyotek\n"
     ]
    }
   ],
   "source": [
    "#for better programming we avoid to call like above\n",
    "def firs_function():\n",
    "    print(\"I am dhiyotek\")\n",
    "if __name__==\"__main__\":\n",
    "    firs_function()"
   ]
  },
  {
   "cell_type": "code",
   "execution_count": 5,
   "metadata": {},
   "outputs": [
    {
     "name": "stdout",
     "output_type": "stream",
     "text": [
      "I am dhiyotek,year is 2024\n"
     ]
    }
   ],
   "source": [
    "#Passing Arguments\n",
    "#Method 1 : Passing List of Arguments seperated by commas\n",
    "# Positional Arguments\n",
    "def firs_function(year,name):\n",
    "    print(f\"I am {year},year is {name}\")\n",
    "if __name__==\"__main__\":\n",
    "    name=\"dhiyotek\"\n",
    "    year=2024\n",
    "    firs_function(name,year)"
   ]
  },
  {
   "cell_type": "code",
   "execution_count": 6,
   "metadata": {},
   "outputs": [
    {
     "name": "stdout",
     "output_type": "stream",
     "text": [
      "I am 2024,year is dhiyotek\n"
     ]
    }
   ],
   "source": [
    "#Method 2 : Keyword Arguments\n",
    "def firs_function(year,name):\n",
    "    print(f\"I am {year},year is {name}\")\n",
    "if __name__==\"__main__\":\n",
    "    name=\"dhiyotek\"\n",
    "    year=2024\n",
    "    firs_function(name=\"dhiyotek\",year=2024)"
   ]
  },
  {
   "cell_type": "code",
   "execution_count": 7,
   "metadata": {},
   "outputs": [
    {
     "name": "stdout",
     "output_type": "stream",
     "text": [
      "I am dhiyotek,year is 2024\n"
     ]
    }
   ],
   "source": [
    "#Method 3 :: Default Arguments\n",
    "def firs_function(year=2024,name=\"dhiyotek\"):\n",
    "    print(f\"I am {name},year is {year}\")\n",
    "if __name__==\"__main__\":\n",
    "    name=\"dhiyotek\"\n",
    "    year=2024\n",
    "    firs_function()"
   ]
  },
  {
   "cell_type": "code",
   "execution_count": 11,
   "metadata": {},
   "outputs": [
    {
     "name": "stdout",
     "output_type": "stream",
     "text": [
      "61\n"
     ]
    }
   ],
   "source": [
    "#Method 4 : Variable length Positional Arguments\n",
    "def sum_of_numbers(*list_of_nums,last_num):\n",
    "    total=0\n",
    "    for number in list_of_nums:\n",
    "        total+=number\n",
    "    total+=last_num\n",
    "    return total\n",
    "if __name__==\"__main__\":\n",
    "    total=sum_of_numbers(1,2,3,4,5,6,6,7,8,9,0,last_num=10)\n",
    "    print(total)"
   ]
  },
  {
   "cell_type": "code",
   "execution_count": 21,
   "metadata": {},
   "outputs": [
    {
     "name": "stdout",
     "output_type": "stream",
     "text": [
      "name ==> dhiyotek\n",
      "year ==> 2024\n"
     ]
    }
   ],
   "source": [
    "#Method 5 :: Variable length Keyword Arguments\n",
    "def firs_function(**details):\n",
    "    for name,year in details.items():\n",
    "        print(name,\"==>\",year)\n",
    "if __name__==\"__main__\":\n",
    "    firs_function(name=\"dhiyotek\",year=\"2024\")"
   ]
  },
  {
   "cell_type": "code",
   "execution_count": 22,
   "metadata": {},
   "outputs": [
    {
     "name": "stdout",
     "output_type": "stream",
     "text": [
      "I am dhiyotek,Good Morning\n"
     ]
    }
   ],
   "source": [
    "#Method 6 :: Unpacking the Arguments\n",
    "def greetins(name,greet):\n",
    "    print(f\"I am {name},{greet}\")\n",
    "if __name__==\"__main__\":\n",
    "    greetings=[\"dhiyotek\",\"Good Morning\"]\n",
    "    greetins(*greetings)"
   ]
  },
  {
   "cell_type": "code",
   "execution_count": 2,
   "metadata": {},
   "outputs": [
    {
     "name": "stdout",
     "output_type": "stream",
     "text": [
      "5.0\n"
     ]
    },
    {
     "ename": "AssertionError",
     "evalue": "The denominator must not be zero",
     "output_type": "error",
     "traceback": [
      "\u001b[1;31m---------------------------------------------------------------------------\u001b[0m",
      "\u001b[1;31mAssertionError\u001b[0m                            Traceback (most recent call last)",
      "Cell \u001b[1;32mIn[2], line 7\u001b[0m\n\u001b[0;32m      5\u001b[0m \u001b[38;5;66;03m# Example usage\u001b[39;00m\n\u001b[0;32m      6\u001b[0m \u001b[38;5;28mprint\u001b[39m(divide(\u001b[38;5;241m10\u001b[39m, \u001b[38;5;241m2\u001b[39m))\n\u001b[1;32m----> 7\u001b[0m \u001b[38;5;28mprint\u001b[39m(\u001b[43mdivide\u001b[49m\u001b[43m(\u001b[49m\u001b[38;5;241;43m10\u001b[39;49m\u001b[43m,\u001b[49m\u001b[43m \u001b[49m\u001b[38;5;241;43m0\u001b[39;49m\u001b[43m)\u001b[49m)\n",
      "Cell \u001b[1;32mIn[2], line 3\u001b[0m, in \u001b[0;36mdivide\u001b[1;34m(a, b)\u001b[0m\n\u001b[0;32m      2\u001b[0m \u001b[38;5;28;01mdef\u001b[39;00m \u001b[38;5;21mdivide\u001b[39m(a, b):\n\u001b[1;32m----> 3\u001b[0m     \u001b[38;5;28;01massert\u001b[39;00m b \u001b[38;5;241m!=\u001b[39m \u001b[38;5;241m0\u001b[39m,\u001b[38;5;124m\"\u001b[39m\u001b[38;5;124mThe denominator must not be zero\u001b[39m\u001b[38;5;124m\"\u001b[39m\n\u001b[0;32m      4\u001b[0m     \u001b[38;5;28;01mreturn\u001b[39;00m a \u001b[38;5;241m/\u001b[39m b\n",
      "\u001b[1;31mAssertionError\u001b[0m: The denominator must not be zero"
     ]
    }
   ],
   "source": [
    "#Assert statement\n",
    "def divide(a, b):\n",
    "    assert b != 0,\"The denominator must not be zero\"\n",
    "    return a / b\n",
    "# Example usage\n",
    "print(divide(10, 2))\n",
    "print(divide(10, 0))\n"
   ]
  },
  {
   "cell_type": "code",
   "execution_count": null,
   "metadata": {},
   "outputs": [],
   "source": [
    "#Command Line Arguments\n",
    "import sys\n",
    "def commandlineArguments():\n",
    "    arguments=sys.argv[1]\n",
    "    print(arguments)\n",
    "#Th"
   ]
  }
 ],
 "metadata": {
  "kernelspec": {
   "display_name": "Python 3",
   "language": "python",
   "name": "python3"
  },
  "language_info": {
   "codemirror_mode": {
    "name": "ipython",
    "version": 3
   },
   "file_extension": ".py",
   "mimetype": "text/x-python",
   "name": "python",
   "nbconvert_exporter": "python",
   "pygments_lexer": "ipython3",
   "version": "3.11.5"
  }
 },
 "nbformat": 4,
 "nbformat_minor": 2
}
