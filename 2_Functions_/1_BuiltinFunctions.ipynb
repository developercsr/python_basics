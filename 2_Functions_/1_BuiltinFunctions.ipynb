{
 "cells": [
  {
   "cell_type": "code",
   "execution_count": 1,
   "metadata": {},
   "outputs": [
    {
     "name": "stdout",
     "output_type": "stream",
     "text": [
      "123\n",
      "123.321\n",
      "22134332344339383564546\n"
     ]
    }
   ],
   "source": [
    "#1. print()\n",
    "#Printing Numbers\n",
    "print(123)\n",
    "print(123.321)\n",
    "number=22134332344339383564546\n",
    "print(number) # These type of large numbers is not possible in"
   ]
  },
  {
   "cell_type": "code",
   "execution_count": 2,
   "metadata": {},
   "outputs": [
    {
     "name": "stdout",
     "output_type": "stream",
     "text": [
      "I am dhiyotek\n",
      "I am dhiyotek 2024\n"
     ]
    }
   ],
   "source": [
    "#Printing Strings\n",
    "print(\"I am dhiyotek\")\n",
    "print('I am dhiyotek 2024')\n",
    "#More Applications on strings we see in next chapters"
   ]
  },
  {
   "cell_type": "code",
   "execution_count": 3,
   "metadata": {},
   "outputs": [
    {
     "name": "stdout",
     "output_type": "stream",
     "text": [
      "Hii i am dhiyotek ,year 2024\n",
      "Hii i am dhiyotek,year 2024\n",
      "Hii i am dhiyotek,year 2024\n",
      "Hii i am dhiyotek, year 2024\n"
     ]
    }
   ],
   "source": [
    "#Printing Variables(names to the values) and Strings\n",
    "name= \"dhiyotek\"\n",
    "year=2024\n",
    "print(\"Hii i am\",name,\",year\",year)\n",
    "#else\n",
    "print(f\"Hii i am {name},year {year}\")\n",
    "#else\n",
    "print(\"Hii i am {},year {}\".format(name,year)) # format method1\n",
    "#else\n",
    "print(\"Hii i am {1}, year {0}\".format(year,name))"
   ]
  },
  {
   "cell_type": "code",
   "execution_count": 4,
   "metadata": {},
   "outputs": [
    {
     "name": "stdout",
     "output_type": "stream",
     "text": [
      "Enter Your String : \n",
      "i am dhiyotek\n"
     ]
    }
   ],
   "source": [
    "#input Function\n",
    "#String input\n",
    "print(\"Enter Your String : \")\n",
    "string1=input()\n",
    "#If you are using jupyter notebook in chrome it will show more clearly\n",
    "print(string1)"
   ]
  },
  {
   "cell_type": "code",
   "execution_count": 5,
   "metadata": {},
   "outputs": [
    {
     "name": "stdout",
     "output_type": "stream",
     "text": [
      "1\n",
      "1.234\n",
      "(3+0j)\n"
     ]
    }
   ],
   "source": [
    "#Numbers input \n",
    "number=int(input(\"Enter a number : \"))\n",
    "print(number)\n",
    "float1=float(input(\"Enter a floating number : \"))\n",
    "print(float1)\n",
    "complex1=complex(input(\"Enter a complex number : \"))\n",
    "print(complex1)"
   ]
  },
  {
   "cell_type": "code",
   "execution_count": 6,
   "metadata": {},
   "outputs": [
    {
     "name": "stdout",
     "output_type": "stream",
     "text": [
      "9+6494+94949/454*656 = 143698.0308370044\n"
     ]
    }
   ],
   "source": [
    "#eval function\n",
    "expression=input(\"Enter the expression you want to calculate  : \")\n",
    "result=eval(expression)\n",
    "print(expression,\"=\",result)"
   ]
  },
  {
   "cell_type": "code",
   "execution_count": 7,
   "metadata": {},
   "outputs": [
    {
     "name": "stdout",
     "output_type": "stream",
     "text": [
      "<class 'int'>\n",
      "<class 'float'>\n",
      "<class 'complex'>\n",
      "<class 'str'>\n"
     ]
    }
   ],
   "source": [
    "#type\n",
    "interger=1\n",
    "float1=8.5\n",
    "complex1=7+8j\n",
    "string=\"I am dhiyotek\"\n",
    "print(type(interger))\n",
    "print(type(float1))\n",
    "print(type(complex1))\n",
    "print(type(string))\n",
    "#The type returns the variable which we give as in put"
   ]
  },
  {
   "cell_type": "code",
   "execution_count": 8,
   "metadata": {},
   "outputs": [
    {
     "name": "stdout",
     "output_type": "stream",
     "text": [
      "4.4544\n",
      "4\n"
     ]
    }
   ],
   "source": [
    "#round\n",
    "float1=4.45435354\n",
    "print(round(float1,4))\n",
    "print(round(float1))"
   ]
  },
  {
   "cell_type": "code",
   "execution_count": 9,
   "metadata": {},
   "outputs": [
    {
     "name": "stdout",
     "output_type": "stream",
     "text": [
      "<class 'int'>\n",
      "<class 'int'>\n",
      "<class 'complex'>\n",
      "<class 'str'>\n"
     ]
    }
   ],
   "source": [
    "#Type Conversion\n",
    "number1=2\n",
    "#conversion to string, float and complex\n",
    "print(type(number1))\n",
    "number2=float(number1)\n",
    "print(type(number1))\n",
    "number1=complex(number1)\n",
    "print(type(number1))\n",
    "number1=str(number1)\n",
    "print(type(number1))"
   ]
  },
  {
   "cell_type": "code",
   "execution_count": 11,
   "metadata": {},
   "outputs": [
    {
     "name": "stdout",
     "output_type": "stream",
     "text": [
      "0\n",
      "9\n"
     ]
    }
   ],
   "source": [
    "#min and max\n",
    "list1=[1,2,3,4,5,6,7,8,9,0]\n",
    "print(min(list1))\n",
    "print(max(list1)) # else we can give all numbers seperated by commas instead of using lists"
   ]
  },
  {
   "cell_type": "code",
   "execution_count": 12,
   "metadata": {},
   "outputs": [
    {
     "name": "stdout",
     "output_type": "stream",
     "text": [
      "9261\n"
     ]
    }
   ],
   "source": [
    "#pow\n",
    "number=21\n",
    "power=3\n",
    "print(pow(number,power))"
   ]
  },
  {
   "cell_type": "code",
   "execution_count": 15,
   "metadata": {},
   "outputs": [
    {
     "name": "stdout",
     "output_type": "stream",
     "text": [
      "51\n",
      "0.8361750072590016\n"
     ]
    }
   ],
   "source": [
    "#Generating Random number \n",
    "import random\n",
    "random_integer=random.randint(1,100)\n",
    "print(random_integer)\n",
    "random_float=random.random()\n",
    "print(random_float)"
   ]
  },
  {
   "cell_type": "code",
   "execution_count": 21,
   "metadata": {},
   "outputs": [
    {
     "name": "stdout",
     "output_type": "stream",
     "text": [
      "-5\n",
      "5.43444453\n"
     ]
    },
    {
     "ename": "ValueError",
     "evalue": "math domain error",
     "output_type": "error",
     "traceback": [
      "\u001b[1;31m---------------------------------------------------------------------------\u001b[0m",
      "\u001b[1;31mValueError\u001b[0m                                Traceback (most recent call last)",
      "Cell \u001b[1;32mIn[21], line 6\u001b[0m\n\u001b[0;32m      4\u001b[0m \u001b[38;5;28mprint\u001b[39m(math\u001b[38;5;241m.\u001b[39mceil(number))\n\u001b[0;32m      5\u001b[0m \u001b[38;5;28mprint\u001b[39m(math\u001b[38;5;241m.\u001b[39mfabs(number))\u001b[38;5;66;03m#Absolute Value\u001b[39;00m\n\u001b[1;32m----> 6\u001b[0m \u001b[38;5;28mprint\u001b[39m(\u001b[43mmath\u001b[49m\u001b[38;5;241;43m.\u001b[39;49m\u001b[43msqrt\u001b[49m\u001b[43m(\u001b[49m\u001b[43mnumber\u001b[49m\u001b[43m)\u001b[49m)\n\u001b[0;32m      7\u001b[0m \u001b[38;5;28mprint\u001b[39m(math\u001b[38;5;241m.\u001b[39mexp(number))\n\u001b[0;32m      8\u001b[0m \u001b[38;5;28mprint\u001b[39m(math\u001b[38;5;241m.\u001b[39mtan(number))\n",
      "\u001b[1;31mValueError\u001b[0m: math domain error"
     ]
    }
   ],
   "source": [
    "#Buitin functions from math modele\n",
    "import math\n",
    "number=-5.43444453\n",
    "print(math.ceil(number))\n",
    "print(math.fabs(number))#Absolute Value\n",
    "print(math.sqrt(number))\n",
    "print(math.exp(number))\n",
    "print(math.tan(number))\n",
    "print(math.sin(number))\n",
    "print(math.cos(number))\n",
    "#All trignometric ratioes we can find out\n",
    "print(math.radians(number))\n",
    "print(math.degrees(number))"
   ]
  },
  {
   "cell_type": "code",
   "execution_count": null,
   "metadata": {},
   "outputs": [],
   "source": []
  }
 ],
 "metadata": {
  "kernelspec": {
   "display_name": "Python 3",
   "language": "python",
   "name": "python3"
  },
  "language_info": {
   "codemirror_mode": {
    "name": "ipython",
    "version": 3
   },
   "file_extension": ".py",
   "mimetype": "text/x-python",
   "name": "python",
   "nbconvert_exporter": "python",
   "pygments_lexer": "ipython3",
   "version": "3.11.5"
  }
 },
 "nbformat": 4,
 "nbformat_minor": 2
}
