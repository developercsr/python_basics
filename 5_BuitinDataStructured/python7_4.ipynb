{
 "cells": [
  {
   "cell_type": "code",
   "execution_count": 7,
   "id": "32a48fcc-41ba-448b-af36-7db13f86974e",
   "metadata": {},
   "outputs": [
    {
     "name": "stdout",
     "output_type": "stream",
     "text": [
      "<class 'set'>\n"
     ]
    }
   ],
   "source": [
    "#sets  [linear :: unordered :: not allow duplicates :: mutable :: not indexed] Frozen sets are immutable\n",
    "#{} this will create a dictionary\n",
    "#Once a set is updated then it will updated for the previous ones also ==>DOUBT\n",
    "set1=set()#constructor list,tuple,dict are also constructors\n",
    "print(type(set1))"
   ]
  },
  {
   "cell_type": "code",
   "execution_count": 8,
   "id": "d9576a0d-7261-4d47-a08b-aa634f12c39d",
   "metadata": {},
   "outputs": [
    {
     "name": "stdout",
     "output_type": "stream",
     "text": [
      "None\n",
      "{1}\n"
     ]
    }
   ],
   "source": [
    "print(set1.add(1))#first prints then adds\n",
    "print(set1)"
   ]
  },
  {
   "cell_type": "code",
   "execution_count": 9,
   "id": "710901ac-9d03-4710-a0b7-b15de4d3dd63",
   "metadata": {},
   "outputs": [
    {
     "name": "stdout",
     "output_type": "stream",
     "text": [
      "{0, 1, 2, 3, 4, 5, 6, 7, 8, 9, 10}\n"
     ]
    }
   ],
   "source": [
    "set2={2,3,4,5,6,7,8,9,0,10}\n",
    "set1.update(set2)\n",
    "print(set1)"
   ]
  },
  {
   "cell_type": "code",
   "execution_count": 13,
   "id": "5ebc6376-c358-4e2d-96ba-43ff448d492e",
   "metadata": {},
   "outputs": [
    {
     "name": "stdout",
     "output_type": "stream",
     "text": [
      "{1, 2, 3, 5, 6, 7, 8, 9, 10}\n",
      "{2, 3, 5, 6, 7, 8, 9, 10}\n"
     ]
    }
   ],
   "source": [
    "#Removing elements from set\n",
    "if not 4 in set1:\n",
    "    set1.add(4)\n",
    "set1.remove(4)\n",
    "print(set1)\n",
    "set1.pop()\n",
    "print(set1)"
   ]
  },
  {
   "cell_type": "code",
   "execution_count": 14,
   "id": "19c1f3f8-798a-4217-a3df-7b01b6e785a2",
   "metadata": {},
   "outputs": [
    {
     "name": "stdout",
     "output_type": "stream",
     "text": [
      "set()\n"
     ]
    }
   ],
   "source": [
    "set1.clear()#clears the complete set\n",
    "print(set1)"
   ]
  },
  {
   "cell_type": "code",
   "execution_count": 17,
   "id": "72cd3822-3d93-45b6-b2c8-0a516230306f",
   "metadata": {},
   "outputs": [
    {
     "name": "stdout",
     "output_type": "stream",
     "text": [
      "{0, 1, 2, 3, 4, 5, 6, 7, 8, 9}\n",
      "{0, 1, 2, 3, 4, 5, 6, 7, 8, 9}\n"
     ]
    }
   ],
   "source": [
    "#Combining Operations\n",
    "ss1={1,2,3,4,5,6,7}\n",
    "ss2={5,6,7,8,9,0}\n",
    "print(ss1.union(ss2))\n",
    "print(ss1|ss2) #| This is the symbol ffor union"
   ]
  },
  {
   "cell_type": "code",
   "execution_count": 26,
   "id": "b74b6337-cbf6-4280-8412-454a313d9a7d",
   "metadata": {},
   "outputs": [
    {
     "name": "stdout",
     "output_type": "stream",
     "text": [
      "{5, 6, 7}\n",
      "{5, 6, 7}\n",
      "{1, 2, 3, 4}\n",
      "{1, 2, 3, 4}\n",
      "{0, 1, 2, 3, 4, 8, 9}\n"
     ]
    }
   ],
   "source": [
    "print(ss1.intersection(ss2))\n",
    "print(ss1&ss2)\n",
    "print(ss1.difference(ss2))\n",
    "print(ss1-ss2)\n",
    "print(ss1.symmetric_difference(ss2))"
   ]
  },
  {
   "cell_type": "code",
   "execution_count": 25,
   "id": "02362636-54f2-4e5f-b35b-e9bec1ca21ed",
   "metadata": {},
   "outputs": [
    {
     "name": "stdout",
     "output_type": "stream",
     "text": [
      "False\n",
      "True\n"
     ]
    }
   ],
   "source": [
    "s1={0,1,2,3,4,5,6,7,8,9}\n",
    "s2={0,1,2,5,6}\n",
    "print(s1<=s2)#issubset()\n",
    "print(s1>=s2)#is superset()"
   ]
  },
  {
   "cell_type": "code",
   "execution_count": null,
   "id": "cbc797a4-8f78-4b6a-9604-c529aa8f685a",
   "metadata": {},
   "outputs": [],
   "source": []
  }
 ],
 "metadata": {
  "kernelspec": {
   "display_name": "Python 3 (ipykernel)",
   "language": "python",
   "name": "python3"
  },
  "language_info": {
   "codemirror_mode": {
    "name": "ipython",
    "version": 3
   },
   "file_extension": ".py",
   "mimetype": "text/x-python",
   "name": "python",
   "nbconvert_exporter": "python",
   "pygments_lexer": "ipython3",
   "version": "3.11.5"
  }
 },
 "nbformat": 4,
 "nbformat_minor": 5
}
