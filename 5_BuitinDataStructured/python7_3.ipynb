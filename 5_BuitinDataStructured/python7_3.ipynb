{
 "cells": [
  {
   "cell_type": "code",
   "execution_count": 1,
   "id": "50213616-4e86-4099-bc66-84a0cd452769",
   "metadata": {},
   "outputs": [
    {
     "name": "stdout",
     "output_type": "stream",
     "text": [
      "<class 'dict'>\n"
     ]
    }
   ],
   "source": [
    "#Dictionaries [not allow duplicates :: ordered :: indexed with keys :: mutable :: ordered]\n",
    "#creating an empty dictionary\n",
    "dict = {}\n",
    "print(type(dict))"
   ]
  },
  {
   "cell_type": "code",
   "execution_count": null,
   "id": "22a68126-f3ec-40ce-9e5f-c09c02afb92a",
   "metadata": {},
   "outputs": [],
   "source": [
    "dict={\"a\":1,3:2,\"c\":3,\"d\":4}\n",
    "#Accesing happend with only keys\n",
    "print(dict[\"a\"])\n",
    "print(dict[3])\n",
    "#Adding elements \n",
    "dict[4]=\"Hii\"#method1\n",
    "print(dict)\n",
    "dict.update({5:\"Namaste\"})\n",
    "print(dict)\n",
    "#Changing the elments\n",
    "dict[4]=\"Hari om\"\n",
    "print(dict)\n",
    "dict.update({4:\"Mahadev\"})\n",
    "print(dict)"
   ]
  },
  {
   "cell_type": "code",
   "execution_count": 8,
   "id": "ed5c885d-2198-4320-a690-8a9395846529",
   "metadata": {},
   "outputs": [
    {
     "name": "stdout",
     "output_type": "stream",
     "text": [
      "42\n",
      "-1\n"
     ]
    }
   ],
   "source": [
    "#Accessing Dictionary with get method\n",
    "test={'key1': 42, 'key2': 17, 'key3': 89, 'key4': 5, 'key5': 63, 'key6': 30, 'key7': 51}\n",
    "print(test.get(\"key1\",-1))#second one default if the key not found\n",
    "print(test.get(\"key9\",-1))"
   ]
  },
  {
   "cell_type": "code",
   "execution_count": 31,
   "id": "9e9a0384-958b-47d4-a3d4-352cd8da7810",
   "metadata": {},
   "outputs": [
    {
     "name": "stdout",
     "output_type": "stream",
     "text": [
      "{'key1': 42, 'key2': 17, 'key3': 89, 'key4': 5, 'key5': 63, 'key6': 30, 'key7': 51}\n",
      "30\n",
      "{'key1': 42, 'key2': 17, 'key3': 89, 'key4': 5, 'key5': 63, 'key7': 51}\n",
      "{'key1': 42, 'key2': 17, 'key3': 89, 'key4': 5, 'key5': 63}\n",
      "{'key1': 42, 'key2': 17, 'key3': 89, 'key5': 63}\n",
      "{}\n",
      "The dictionary is deleted is deleted\n"
     ]
    }
   ],
   "source": [
    "#Deleting elements\n",
    "test={'key1': 42, 'key2': 17, 'key3': 89, 'key4': 5, 'key5': 63, 'key6': 30, 'key7': 51}\n",
    "print(test)\n",
    "print(test.pop(\"key6\"))#if we do like this it will print first then  remove element\n",
    "print(test)\n",
    "test.popitem()#removes the last elemnt\n",
    "print(test)\n",
    "del test[\"key4\"]#removing using dell\n",
    "print(test)\n",
    "test.clear()#empty the list\n",
    "print(test)\n",
    "del test # completely deletes the dictionary\n",
    "try:\n",
    "    print(test)\n",
    "except:\n",
    "    print(\"The dictionary is deleted is deleted\")"
   ]
  },
  {
   "cell_type": "code",
   "execution_count": 31,
   "id": "6128ca15-10bc-405e-a97d-39469a67d3c7",
   "metadata": {},
   "outputs": [
    {
     "name": "stdout",
     "output_type": "stream",
     "text": [
      "{'key1': 42, 'key2': 17, 'key3': 89, 'key4': 5, 'key5': 63, 'key6': 30, 'key7': 51}\n",
      "30\n",
      "{'key1': 42, 'key2': 17, 'key3': 89, 'key4': 5, 'key5': 63, 'key7': 51}\n",
      "{'key1': 42, 'key2': 17, 'key3': 89, 'key4': 5, 'key5': 63}\n",
      "{'key1': 42, 'key2': 17, 'key3': 89, 'key5': 63}\n",
      "{}\n",
      "The dictionary is deleted is deleted\n"
     ]
    }
   ],
   "source": [
    "#Deleting elements\n",
    "test={'key1': 42, 'key2': 17, 'key3': 89, 'key4': 5, 'key5': 63, 'key6': 30, 'key7': 51}\n",
    "print(test)\n",
    "print(test.pop(\"key6\"))#if we do like this it will print first then  remove element\n",
    "print(test)\n",
    "test.popitem()#removes the last elemnt\n",
    "print(test)\n",
    "del test[\"key4\"]#removing using dell\n",
    "print(test)\n",
    "test.clear()#empty the list\n",
    "print(test)\n",
    "del test # completely deletes the dictionary\n",
    "try:\n",
    "    print(test)\n",
    "except:\n",
    "    print(\"The dictionary is deleted is deleted\")"
   ]
  },
  {
   "cell_type": "code",
   "execution_count": null,
   "id": "2bc08320-fddf-4660-90b7-6611347a7c30",
   "metadata": {},
   "outputs": [],
   "source": [
    "#Looping dictinaries\n",
    "test={'key1': 42, 'key2': 17, 'key3': 89, 'key4': 5, 'key5': 63, 'key6': 30, 'key7': 51}\n",
    "for i in test.keys():\n",
    "    print(i)"
   ]
  },
  {
   "cell_type": "code",
   "execution_count": null,
   "id": "e94b9d9c-399e-419f-b322-fdfb0317b1b2",
   "metadata": {},
   "outputs": [],
   "source": [
    "test={'key1': 42, 'key2': 17, 'key3': 89, 'key4': 5, 'key5': 63, 'key6': 30, 'key7': 51}\n",
    "for i in test.values():\n",
    "    print(i)"
   ]
  },
  {
   "cell_type": "code",
   "execution_count": null,
   "id": "a9860183-9b3e-46d9-bcbb-50da0eb3877b",
   "metadata": {},
   "outputs": [],
   "source": [
    "test={'key1': 42, 'key2': 17, 'key3': 89, 'key4': 5, 'key5': 63, 'key6': 30, 'key7': 51}\n",
    "for i in test.items():\n",
    "    print(i)"
   ]
  },
  {
   "cell_type": "code",
   "execution_count": 6,
   "id": "165cb9ca-d4fc-4133-bed3-036ced5a2b65",
   "metadata": {},
   "outputs": [
    {
     "name": "stdout",
     "output_type": "stream",
     "text": [
      "{'key1': 42, 'key2': 17, 'key3': 89, 'key4': 5, 'key5': 63, 'key6': 30, 'key7': 51} \n",
      " {'key1': 42, 'key2': 17, 'key3': 89, 'key4': 5, 'key5': 63, 'key6': 30, 'key7': 51}\n"
     ]
    }
   ],
   "source": [
    "#copying dictionaries\n",
    "#2 methods\n",
    "test={'key1': 42, 'key2': 17, 'key3': 89, 'key4': 5, 'key5': 63, 'key6': 30, 'key7': 51}\n",
    "test1=dict(test)\n",
    "test2=test.copy()\n",
    "print(test1,\"\\n\",test2)"
   ]
  }
 ],
 "metadata": {
  "kernelspec": {
   "display_name": "Python 3 (ipykernel)",
   "language": "python",
   "name": "python3"
  },
  "language_info": {
   "codemirror_mode": {
    "name": "ipython",
    "version": 3
   },
   "file_extension": ".py",
   "mimetype": "text/x-python",
   "name": "python",
   "nbconvert_exporter": "python",
   "pygments_lexer": "ipython3",
   "version": "3.11.5"
  }
 },
 "nbformat": 4,
 "nbformat_minor": 5
}
