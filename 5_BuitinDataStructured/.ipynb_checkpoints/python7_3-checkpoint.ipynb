{
 "cells": [
  {
   "cell_type": "code",
   "execution_count": 50,
   "id": "50213616-4e86-4099-bc66-84a0cd452769",
   "metadata": {},
   "outputs": [
    {
     "name": "stdout",
     "output_type": "stream",
     "text": [
      "<class 'dict'>\n"
     ]
    }
   ],
   "source": [
    "#Dictionaries [not allow duplicates :: ordered :: indexed with keys :: mutable :: ordered]\n",
    "#creating an empty dictionary\n",
    "dict1 = {}\n",
    "print(type(dict1))"
   ]
  },
  {
   "cell_type": "code",
   "execution_count": 51,
   "id": "22a68126-f3ec-40ce-9e5f-c09c02afb92a",
   "metadata": {},
   "outputs": [
    {
     "name": "stdout",
     "output_type": "stream",
     "text": [
      "1\n",
      "2\n",
      "{'a': 1, 3: 2, 'c': 3, 'd': 4, 4: 'Hii'}\n",
      "{'a': 1, 3: 2, 'c': 3, 'd': 4, 4: 'Hii', 5: 'Namaste'}\n",
      "{'a': 1, 3: 2, 'c': 3, 'd': 4, 4: 'Hari om', 5: 'Namaste'}\n",
      "{'a': 1, 3: 2, 'c': 3, 'd': 4, 4: 'Mahadev', 5: 'Namaste'}\n"
     ]
    }
   ],
   "source": [
    "dict1={\"a\":1,3:2,\"c\":3,\"d\":4}\n",
    "#Accesing happend with only keys\n",
    "print(dict1[\"a\"])\n",
    "print(dict1[3])\n",
    "#Adding elements \n",
    "dict1[4]=\"Hii\"#method1\n",
    "print(dict1)\n",
    "dict1.update({5:\"Namaste\"})\n",
    "print(dict1)\n",
    "#Changing the elments\n",
    "dict1[4]=\"Hari om\"\n",
    "print(dict1)\n",
    "dict1.update({4:\"Mahadev\"})\n",
    "print(dict1)"
   ]
  },
  {
   "cell_type": "code",
   "execution_count": 52,
   "id": "ed5c885d-2198-4320-a690-8a9395846529",
   "metadata": {},
   "outputs": [
    {
     "name": "stdout",
     "output_type": "stream",
     "text": [
      "42\n",
      "-1\n"
     ]
    }
   ],
   "source": [
    "#Accessing Dictionary with get method\n",
    "test={'key1': 42, 'key2': 17, 'key3': 89, 'key4': 5, 'key5': 63, 'key6': 30, 'key7': 51}\n",
    "print(test.get(\"key1\",-1))#second one default if the key not found\n",
    "print(test.get(\"key9\",-1))"
   ]
  },
  {
   "cell_type": "code",
   "execution_count": 53,
   "id": "9e9a0384-958b-47d4-a3d4-352cd8da7810",
   "metadata": {},
   "outputs": [
    {
     "name": "stdout",
     "output_type": "stream",
     "text": [
      "{'key1': 42, 'key2': 17, 'key3': 89, 'key4': 5, 'key5': 63, 'key6': 30, 'key7': 51}\n",
      "30\n",
      "{'key1': 42, 'key2': 17, 'key3': 89, 'key4': 5, 'key5': 63, 'key7': 51}\n",
      "{'key1': 42, 'key2': 17, 'key3': 89, 'key4': 5, 'key5': 63}\n",
      "{'key1': 42, 'key2': 17, 'key3': 89, 'key5': 63}\n",
      "{}\n",
      "The dictionary is deleted is deleted\n"
     ]
    }
   ],
   "source": [
    "#Deleting elements\n",
    "test={'key1': 42, 'key2': 17, 'key3': 89, 'key4': 5, 'key5': 63, 'key6': 30, 'key7': 51}\n",
    "print(test)\n",
    "print(test.pop(\"key6\"))#if we do like this it will print first then  remove element\n",
    "print(test)\n",
    "test.popitem()#removes the last elemnt\n",
    "print(test)\n",
    "del test[\"key4\"]#removing using dell\n",
    "print(test)\n",
    "test.clear()#empty the list\n",
    "print(test)\n",
    "del test # completely deletes the dictionary\n",
    "try:\n",
    "    print(test)\n",
    "except:\n",
    "    print(\"The dictionary is deleted is deleted\")"
   ]
  },
  {
   "cell_type": "code",
   "execution_count": 54,
   "id": "6128ca15-10bc-405e-a97d-39469a67d3c7",
   "metadata": {},
   "outputs": [
    {
     "name": "stdout",
     "output_type": "stream",
     "text": [
      "{'key1': 42, 'key2': 17, 'key3': 89, 'key4': 5, 'key5': 63, 'key6': 30, 'key7': 51}\n",
      "30\n",
      "{'key1': 42, 'key2': 17, 'key3': 89, 'key4': 5, 'key5': 63, 'key7': 51}\n",
      "{'key1': 42, 'key2': 17, 'key3': 89, 'key4': 5, 'key5': 63}\n",
      "{'key1': 42, 'key2': 17, 'key3': 89, 'key5': 63}\n",
      "{}\n",
      "The dictionary is deleted is deleted\n"
     ]
    }
   ],
   "source": [
    "#Deleting elements\n",
    "test={'key1': 42, 'key2': 17, 'key3': 89, 'key4': 5, 'key5': 63, 'key6': 30, 'key7': 51}\n",
    "print(test)\n",
    "print(test.pop(\"key6\"))#if we do like this it will print first then  remove element\n",
    "print(test)\n",
    "test.popitem()#removes the last elemnt\n",
    "print(test)\n",
    "del test[\"key4\"]#removing using dell\n",
    "print(test)\n",
    "test.clear()#empty the list\n",
    "print(test)\n",
    "del test # completely deletes the dictionary\n",
    "try:\n",
    "    print(test)\n",
    "except:\n",
    "    print(\"The dictionary is deleted is deleted\")"
   ]
  },
  {
   "cell_type": "code",
   "execution_count": 55,
   "id": "2bc08320-fddf-4660-90b7-6611347a7c30",
   "metadata": {},
   "outputs": [
    {
     "name": "stdout",
     "output_type": "stream",
     "text": [
      "key1\n",
      "key2\n",
      "key3\n",
      "key4\n",
      "key5\n",
      "key6\n",
      "key7\n"
     ]
    }
   ],
   "source": [
    "#Looping dictinaries\n",
    "test={'key1': 42, 'key2': 17, 'key3': 89, 'key4': 5, 'key5': 63, 'key6': 30, 'key7': 51}\n",
    "for i in test.keys():\n",
    "    print(i)"
   ]
  },
  {
   "cell_type": "code",
   "execution_count": 56,
   "id": "e94b9d9c-399e-419f-b322-fdfb0317b1b2",
   "metadata": {},
   "outputs": [
    {
     "name": "stdout",
     "output_type": "stream",
     "text": [
      "42\n",
      "17\n",
      "89\n",
      "5\n",
      "63\n",
      "30\n",
      "51\n"
     ]
    }
   ],
   "source": [
    "test={'key1': 42, 'key2': 17, 'key3': 89, 'key4': 5, 'key5': 63, 'key6': 30, 'key7': 51}\n",
    "for i in test.values():\n",
    "    print(i)"
   ]
  },
  {
   "cell_type": "code",
   "execution_count": 57,
   "id": "a9860183-9b3e-46d9-bcbb-50da0eb3877b",
   "metadata": {},
   "outputs": [
    {
     "name": "stdout",
     "output_type": "stream",
     "text": [
      "('key1', 42)\n",
      "('key2', 17)\n",
      "('key3', 89)\n",
      "('key4', 5)\n",
      "('key5', 63)\n",
      "('key6', 30)\n",
      "('key7', 51)\n"
     ]
    }
   ],
   "source": [
    "test={'key1': 42, 'key2': 17, 'key3': 89, 'key4': 5, 'key5': 63, 'key6': 30, 'key7': 51}\n",
    "for i in test.items():\n",
    "    print(i)"
   ]
  },
  {
   "cell_type": "code",
   "execution_count": 58,
   "id": "165cb9ca-d4fc-4133-bed3-036ced5a2b65",
   "metadata": {},
   "outputs": [
    {
     "ename": "TypeError",
     "evalue": "'dict' object is not callable",
     "output_type": "error",
     "traceback": [
      "\u001b[1;31m---------------------------------------------------------------------------\u001b[0m",
      "\u001b[1;31mTypeError\u001b[0m                                 Traceback (most recent call last)",
      "Cell \u001b[1;32mIn[58], line 4\u001b[0m\n\u001b[0;32m      1\u001b[0m \u001b[38;5;66;03m#copying dictionaries\u001b[39;00m\n\u001b[0;32m      2\u001b[0m \u001b[38;5;66;03m#2 methods\u001b[39;00m\n\u001b[0;32m      3\u001b[0m test\u001b[38;5;241m=\u001b[39m{\u001b[38;5;124m'\u001b[39m\u001b[38;5;124mkey1\u001b[39m\u001b[38;5;124m'\u001b[39m: \u001b[38;5;241m42\u001b[39m, \u001b[38;5;124m'\u001b[39m\u001b[38;5;124mkey2\u001b[39m\u001b[38;5;124m'\u001b[39m: \u001b[38;5;241m17\u001b[39m, \u001b[38;5;124m'\u001b[39m\u001b[38;5;124mkey3\u001b[39m\u001b[38;5;124m'\u001b[39m: \u001b[38;5;241m89\u001b[39m, \u001b[38;5;124m'\u001b[39m\u001b[38;5;124mkey4\u001b[39m\u001b[38;5;124m'\u001b[39m: \u001b[38;5;241m5\u001b[39m, \u001b[38;5;124m'\u001b[39m\u001b[38;5;124mkey5\u001b[39m\u001b[38;5;124m'\u001b[39m: \u001b[38;5;241m63\u001b[39m, \u001b[38;5;124m'\u001b[39m\u001b[38;5;124mkey6\u001b[39m\u001b[38;5;124m'\u001b[39m: \u001b[38;5;241m30\u001b[39m, \u001b[38;5;124m'\u001b[39m\u001b[38;5;124mkey7\u001b[39m\u001b[38;5;124m'\u001b[39m: \u001b[38;5;241m51\u001b[39m}\n\u001b[1;32m----> 4\u001b[0m test1\u001b[38;5;241m=\u001b[39m\u001b[38;5;28;43mdict\u001b[39;49m\u001b[43m(\u001b[49m\u001b[43mtest\u001b[49m\u001b[43m)\u001b[49m\n\u001b[0;32m      5\u001b[0m test2\u001b[38;5;241m=\u001b[39mtest\u001b[38;5;241m.\u001b[39mcopy()\n\u001b[0;32m      6\u001b[0m \u001b[38;5;28mprint\u001b[39m(test1,\u001b[38;5;124m\"\u001b[39m\u001b[38;5;130;01m\\n\u001b[39;00m\u001b[38;5;124m\"\u001b[39m,test2)\n",
      "\u001b[1;31mTypeError\u001b[0m: 'dict' object is not callable"
     ]
    }
   ],
   "source": [
    "#copying dictionaries\n",
    "#2 methods\n",
    "test={'key1': 42, 'key2': 17, 'key3': 89, 'key4': 5, 'key5': 63, 'key6': 30, 'key7': 51}\n",
    "test1=dict(test)\n",
    "test2=test.copy()\n",
    "print(test1,\"\\n\",test2)"
   ]
  },
  {
   "cell_type": "code",
   "execution_count": null,
   "id": "630102ec-fb61-481b-99c3-464d1ca6b1f0",
   "metadata": {},
   "outputs": [],
   "source": []
  },
  {
   "cell_type": "code",
   "execution_count": null,
   "id": "ae7e688f-048e-49d7-b7d8-9e085000a05b",
   "metadata": {},
   "outputs": [],
   "source": []
  }
 ],
 "metadata": {
  "kernelspec": {
   "display_name": "Python 3 (ipykernel)",
   "language": "python",
   "name": "python3"
  },
  "language_info": {
   "codemirror_mode": {
    "name": "ipython",
    "version": 3
   },
   "file_extension": ".py",
   "mimetype": "text/x-python",
   "name": "python",
   "nbconvert_exporter": "python",
   "pygments_lexer": "ipython3",
   "version": "3.11.5"
  }
 },
 "nbformat": 4,
 "nbformat_minor": 5
}
