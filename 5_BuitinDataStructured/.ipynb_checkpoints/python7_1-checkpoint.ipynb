{
 "cells": [
  {
   "cell_type": "code",
   "execution_count": 2,
   "id": "5edebc71-a1d3-4db7-a8c0-34101a3663ed",
   "metadata": {},
   "outputs": [
    {
     "name": "stdout",
     "output_type": "stream",
     "text": [
      "['J', 'a', 'i', ' ', 'S', 'h', 'r', 'e', 'e', ' ', 'R', 'a', 'm']\n"
     ]
    }
   ],
   "source": [
    "l=list(\"Jai Shree Ram\")\n",
    "print(l)"
   ]
  },
  {
   "cell_type": "code",
   "execution_count": 3,
   "id": "f95b05fb-404f-4d75-a06f-1af6bbdefbf7",
   "metadata": {},
   "outputs": [
    {
     "name": "stdout",
     "output_type": "stream",
     "text": [
      "<class 'list'>\n"
     ]
    }
   ],
   "source": [
    "\"\"\"\n",
    "LIST ==> list is a linear data type.It is [mutable::orderd::allow_duplicates::indexed]\n",
    "\"\"\"\n",
    "#creating list\n",
    "list = []#An empty list is created\n",
    "print(type(list))"
   ]
  },
  {
   "cell_type": "code",
   "execution_count": 4,
   "id": "991b8b3f-fd42-43ef-92af-3807182a4402",
   "metadata": {},
   "outputs": [
    {
     "name": "stdout",
     "output_type": "stream",
     "text": [
      "[1]\n",
      "[1, 2]\n",
      "[1, 2, 12, 4]\n",
      "Directly we can't add integer elements in a list using extend\n",
      "[1, 2, 12, 4, 5]\n",
      "1\n",
      "1\n"
     ]
    }
   ],
   "source": [
    "#adding the elemnts to a list\n",
    "list.append(1)#Method1\n",
    "print(list)\n",
    "list.insert(1,2)#insert(position,value) ==>Method2\n",
    "print(list)\n",
    "list.insert(5,12)#Add to th next value but it is nit good practice\n",
    "list.append(4)\n",
    "print(list)\n",
    "try :\n",
    "    list.extend(5)\n",
    "except:\n",
    "    print(\"Directly we can't add integer elements in a list using extend\")\n",
    "a=[5]\n",
    "list.extend(a)#we can only extend lists\n",
    "print(list)\n",
    "print(list.count(1))#Return thr countnof the passed argument in the list\n",
    "print(list.index(2))#returns the index ofthe given element"
   ]
  },
  {
   "cell_type": "code",
   "execution_count": 5,
   "id": "0381d8fa-cdb3-4f84-8cc7-27a720c7e5b0",
   "metadata": {},
   "outputs": [
    {
     "name": "stdout",
     "output_type": "stream",
     "text": [
      "['apple', 'ant', 'orange', 'grape']\n"
     ]
    }
   ],
   "source": [
    "#changing the elments in teh list\n",
    "l=[\"apple\", \"banana\", \"orange\", \"grape\"]\n",
    "#simple\n",
    "l[1]=\"ant\"\n",
    "print(l)"
   ]
  },
  {
   "cell_type": "code",
   "execution_count": 6,
   "id": "25b36d46-2621-4a33-b0b4-c10a11d5f4f5",
   "metadata": {},
   "outputs": [
    {
     "name": "stdout",
     "output_type": "stream",
     "text": [
      "[1, 2, 3, 4, 5, 6, 7, 8, 9, 0]\n",
      "0\n",
      "3\n",
      "None\n",
      "[1, 2, 5, 6, 7, 8, 9]\n",
      "None\n"
     ]
    }
   ],
   "source": [
    "#Removing elements form  the list\n",
    "l=[1,2,3,4,5,6,7,8,9,0]#let l b ethe list\n",
    "print(l)\n",
    "print(l.pop())#removes element from last\n",
    "print(l.pop(2))\n",
    "print(l.remove(4))#DOUBT\n",
    "print(l)\n",
    "#clear removes all elements from the list\n",
    "print(l.clear())"
   ]
  },
  {
   "cell_type": "code",
   "execution_count": 7,
   "id": "d5431df9-eb1a-4b63-a85c-9f02559ea8ba",
   "metadata": {},
   "outputs": [
    {
     "name": "stdout",
     "output_type": "stream",
     "text": [
      "3\n",
      "[3, 4, 5]\n",
      "[1, 2, 3, 4, 5]\n",
      "[3, 4, 5, 6, 7, 8, 9, 0]\n",
      "[3, 5]\n",
      "[9, 8, 7, 6, 5]\n"
     ]
    }
   ],
   "source": [
    "#Accessing a list\n",
    "#slicing also possible in list\n",
    "l=[1,2,3,4,5,6,7,8,9,0]#let l b ethe list\n",
    "print(l[2])\n",
    "print(l[2:5])\n",
    "print(l[:5])\n",
    "print(l[2:])\n",
    "print(l[2:5:2])\n",
    "print(l[8:3:-1])"
   ]
  },
  {
   "cell_type": "code",
   "execution_count": 8,
   "id": "eaee7572-100a-42b7-9d9e-f4e45ee81e5c",
   "metadata": {},
   "outputs": [
    {
     "name": "stdout",
     "output_type": "stream",
     "text": [
      "[1, 2, 3, 4, 5, 6, 7, 8, 9, 0, 1, 2, 3, 4, 5, 6, 7, 8, 9, 0]\n"
     ]
    }
   ],
   "source": [
    "l=[1,2,3,4,5,6,7,8,9,0]#let l b ethe list\n",
    "print(l*2)#Multiplication happens in this in strings"
   ]
  },
  {
   "cell_type": "code",
   "execution_count": 9,
   "id": "eaff6e28-fe70-4c15-87f7-ab1c162e0220",
   "metadata": {},
   "outputs": [
    {
     "name": "stdout",
     "output_type": "stream",
     "text": [
      "['apple', 'banana', 'orange', 'grape']\n",
      "['grape', 'orange', 'banana', 'apple']\n",
      "['grape', 'orange', 'banana', 'apple']\n"
     ]
    }
   ],
   "source": [
    "#list functions\n",
    "l=[\"apple\", \"banana\", \"orange\", \"grape\"]\n",
    "print(l)\n",
    "print(l[::-1])#method 1\n",
    "l.reverse() #if you assign l.reverse() to a variable it will be none the reverse() do not return anything this is the reason\n",
    "print(l)#method2"
   ]
  },
  {
   "cell_type": "code",
   "execution_count": 10,
   "id": "57eb2861-bdb8-4fa5-bef2-d04ad5a70e85",
   "metadata": {},
   "outputs": [
    {
     "name": "stdout",
     "output_type": "stream",
     "text": [
      "['apple', 'banana', 'grape', 'orange']\n",
      "['Banana', 'apple', 'grape', 'orange']\n",
      "['apple', 'Banana', 'grape', 'orange']\n",
      "['orange', 'grape', 'Banana', 'apple']\n",
      "[1009, 987, 934, 1234, 1235, 1265]\n"
     ]
    }
   ],
   "source": [
    "#sorting a list\n",
    "l=[\"apple\", \"banana\", \"orange\", \"grape\"]\n",
    "l.sort()\n",
    "print(l)#alphabetical order\n",
    "#if the list contains capital then it will consider capital as high priority\n",
    "l=[\"apple\", \"Banana\", \"orange\", \"grape\"]\n",
    "l.sort()\n",
    "print(l)\n",
    "#to avoid this\n",
    "l.sort(key=str.lower)\n",
    "print(l)\n",
    "#reverse order after sorting\n",
    "l.sort(reverse=True,key=str.lower)\n",
    "print(l)\n",
    "#customarized order\n",
    "#sort based on absolute diffrence (with out considering negitive) sort a list of numbers\n",
    "l=[1234,1235,1265,987,934,1009]\n",
    "def fun(n):\n",
    "    return abs(n-1000)\n",
    "l.sort(key= fun)\n",
    "print(l)"
   ]
  }
 ],
 "metadata": {
  "kernelspec": {
   "display_name": "Python 3 (ipykernel)",
   "language": "python",
   "name": "python3"
  },
  "language_info": {
   "codemirror_mode": {
    "name": "ipython",
    "version": 3
   },
   "file_extension": ".py",
   "mimetype": "text/x-python",
   "name": "python",
   "nbconvert_exporter": "python",
   "pygments_lexer": "ipython3",
   "version": "3.11.5"
  }
 },
 "nbformat": 4,
 "nbformat_minor": 5
}
