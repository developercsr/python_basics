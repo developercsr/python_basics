{
 "cells": [
  {
   "cell_type": "code",
   "execution_count": null,
   "id": "d95d2054-92ec-44c6-bcbe-48e56e2c69e8",
   "metadata": {},
   "outputs": [],
   "source": [
    "#tuple [linear:: immutable :: ordered:: indexed :: allow duplicates]\n",
    "#creating tuples\n",
    "t=()#empty tuple\n",
    "print(t)"
   ]
  },
  {
   "cell_type": "code",
   "execution_count": null,
   "id": "d3706496-09c0-40fb-a3a8-85704a6f5cec",
   "metadata": {},
   "outputs": [],
   "source": [
    "l=[1,2,3,4,45,6,7,8]\n",
    "t=tuple(l) # creating from list\n",
    "print(t)"
   ]
  },
  {
   "cell_type": "code",
   "execution_count": null,
   "id": "6884c822-4036-46a4-b3d0-ab0cd861dd9b",
   "metadata": {},
   "outputs": [],
   "source": [
    "#tuple to list\n",
    "#if we want to update a tuple it should be converted to list else we couldn't modify it\n",
    "ll=list(t)\n",
    "print(ll)"
   ]
  },
  {
   "cell_type": "code",
   "execution_count": 3,
   "id": "a701f137-1485-4633-b1ac-c4d30e470e5f",
   "metadata": {},
   "outputs": [
    {
     "name": "stdout",
     "output_type": "stream",
     "text": [
      "1\n",
      "3\n",
      "(3, 4, 5)\n",
      "(1, 2, 3, 4, 5)\n",
      "(3, 4, 5, 6, 7, 8, 9, 0)\n",
      "(3, 5)\n",
      "(9, 8, 7, 6, 5)\n",
      "(0, 9, 8, 7, 6, 5, 4, 3, 2, 1)\n"
     ]
    }
   ],
   "source": [
    "#Accessing a tuple Accessing is almost same as lists\n",
    "t=tuple([1,2,3,4,5,6,7,8,9,0])\n",
    "print(t[0])\n",
    "print(t[2])\n",
    "print(t[2:5])\n",
    "print(t[:5])\n",
    "print(t[2:])\n",
    "print(t[2:5:2])\n",
    "print(t[8:3:-1])\n",
    "print(t[::-1])"
   ]
  },
  {
   "cell_type": "code",
   "execution_count": 5,
   "id": "8cdba2b2-1420-46e7-9255-979a136e1666",
   "metadata": {},
   "outputs": [
    {
     "name": "stdout",
     "output_type": "stream",
     "text": [
      "(1, 2, 3, 4, 5, 6, 7, 8, 9, 0, 10)\n",
      "Tuples can't be updated\n"
     ]
    }
   ],
   "source": [
    "#tuple modifications==>we can add but we can't modify the tuples\n",
    "t=(1,2,3,4,5,6,7,8,9,0)\n",
    "t1=(10,)#\n",
    "t+=t1\n",
    "print(t)\n",
    "try:\n",
    "    t[1]=34\n",
    "    print(t)\n",
    "except:\n",
    "    print(\"Tuples can't be updated\")"
   ]
  },
  {
   "cell_type": "code",
   "execution_count": 3,
   "id": "90e896d8-2711-4924-9781-ba85cc54ea01",
   "metadata": {},
   "outputs": [
    {
     "name": "stdout",
     "output_type": "stream",
     "text": [
      "The tuple is deleted\n"
     ]
    }
   ],
   "source": [
    "t=(1,2,3,4,5,6,7,8,9,0)\n",
    "del t #deleting a tuple\n",
    "try:\n",
    "    print(t)\n",
    "except:\n",
    "    print(\"The tuple is deleted\")"
   ]
  },
  {
   "cell_type": "code",
   "execution_count": 13,
   "id": "f8d3aa26-7e50-40eb-9f71-9c91ab9bafd4",
   "metadata": {},
   "outputs": [
    {
     "name": "stdout",
     "output_type": "stream",
     "text": [
      "1 [2, 3, 4, 5, 6, 7, 8, 9] 0\n",
      "1 2 [3, 4, 5, 6, 7, 8, 9, 0]\n",
      "[1, 2, 3, 4, 5, 6, 7, 8] 9 0\n"
     ]
    }
   ],
   "source": [
    "\n",
    "#Unpacking Tuples\n",
    "t=(1,2,3,4,5,6,7,8,9,0)\n",
    "(a,*b,c)=t#astrik will manage elements it will will take remaining elements after assing the values to the other varibles\n",
    "print(a,b,c)\n",
    "(a,b,*c)=t\n",
    "print(a,b,c)\n",
    "(*a,b,c)=t\n",
    "print(a,b,c)"
   ]
  },
  {
   "cell_type": "code",
   "execution_count": 14,
   "id": "973ba5f9-ffb0-4640-9ad0-60f9849578be",
   "metadata": {},
   "outputs": [
    {
     "name": "stdout",
     "output_type": "stream",
     "text": [
      "(1, 2, 3, 1, 4, 5, 6, 7, 8, 9, 0)\n",
      "(11, 12, 13, 14)\n",
      "(11, 12, 13, 14, 1, 2, 3, 1, 4, 5, 6, 7, 8, 9, 0)\n"
     ]
    }
   ],
   "source": [
    "#joining the tuples\n",
    "t1=(1,2,3,1,4,5,6,7,8,9,0)\n",
    "t2=(11,12,13,14)\n",
    "print(t1)\n",
    "print(t2)\n",
    "t2+=t1\n",
    "print(t2)"
   ]
  },
  {
   "cell_type": "code",
   "execution_count": 16,
   "id": "aee1d366-25b4-48a5-ae1c-8b44ff49d3d5",
   "metadata": {},
   "outputs": [
    {
     "name": "stdout",
     "output_type": "stream",
     "text": [
      "2\n",
      "6\n"
     ]
    }
   ],
   "source": [
    "#tuple methods\n",
    "print(t2.count(1))\n",
    "print(t2.index(3))"
   ]
  },
  {
   "cell_type": "code",
   "execution_count": 17,
   "id": "88b66bc2-9a52-4bc0-8c91-53740b8f2d38",
   "metadata": {},
   "outputs": [
    {
     "name": "stdout",
     "output_type": "stream",
     "text": [
      "(11, 12, 13, 14, 1, 2, 3, 1, 4, 5, 6, 7, 8, 9, 0, 11, 12, 13, 14, 1, 2, 3, 1, 4, 5, 6, 7, 8, 9, 0)\n"
     ]
    }
   ],
   "source": [
    "#multiplying tuples\n",
    "print(t2*2)"
   ]
  }
 ],
 "metadata": {
  "kernelspec": {
   "display_name": "Python 3 (ipykernel)",
   "language": "python",
   "name": "python3"
  },
  "language_info": {
   "codemirror_mode": {
    "name": "ipython",
    "version": 3
   },
   "file_extension": ".py",
   "mimetype": "text/x-python",
   "name": "python",
   "nbconvert_exporter": "python",
   "pygments_lexer": "ipython3",
   "version": "3.11.5"
  }
 },
 "nbformat": 4,
 "nbformat_minor": 5
}
