{
 "cells": [
  {
   "cell_type": "code",
   "execution_count": 7,
   "metadata": {},
   "outputs": [
    {
     "name": "stdout",
     "output_type": "stream",
     "text": [
      "Loop number values : 1 2 3 4 5 \n",
      "dhiyotek local variable number :  5\n",
      "Main calling funcion number :  100\n"
     ]
    }
   ],
   "source": [
    "#Local Variables\n",
    "def dhiyotek():\n",
    "    number=23#Local to the function dhiyotek\n",
    "    print(\"Loop number values : \",end=\"\")\n",
    "    for number in range(1,6):\n",
    "        print(number,end=\" \")#Local to the loop\n",
    "    print(\"\\ndhiyotek local variable number : \",number)\n",
    "if __name__==\"__main__\":\n",
    "    number=100#Local to the outside function of dhiyotek,part of main function\n",
    "    dhiyotek()\n",
    "    print(\"Main calling funcion number : \",number)"
   ]
  },
  {
   "cell_type": "code",
   "execution_count": 2,
   "metadata": {},
   "outputs": [
    {
     "name": "stdout",
     "output_type": "stream",
     "text": [
      "Global level number is  100\n",
      "This number variable is taken from the global level  100\n",
      "The numbers are updated when we update in local 1 2 3 4 5 \n",
      "Global level number is  5\n"
     ]
    }
   ],
   "source": [
    "#global variables\n",
    "number=100\n",
    "def global_variable_example():\n",
    "    global number\n",
    "    print(\"This number variable is taken from the global level \",number)\n",
    "    print(\"The numbers are updated when we update in local \",end=\"\")\n",
    "    for number in range(1,6):\n",
    "        print(number,end=\" \")\n",
    "\n",
    "if __name__==\"__main__\":\n",
    "    print(f\"Global level number is \",number)\n",
    "    global_variable_example()\n",
    "    print(f\"\\nGlobal level number is \",number)\n"
   ]
  },
  {
   "cell_type": "code",
   "execution_count": null,
   "metadata": {},
   "outputs": [],
   "source": []
  }
 ],
 "metadata": {
  "kernelspec": {
   "display_name": "Python 3",
   "language": "python",
   "name": "python3"
  },
  "language_info": {
   "codemirror_mode": {
    "name": "ipython",
    "version": 3
   },
   "file_extension": ".py",
   "mimetype": "text/x-python",
   "name": "python",
   "nbconvert_exporter": "python",
   "pygments_lexer": "ipython3",
   "version": "3.11.5"
  }
 },
 "nbformat": 4,
 "nbformat_minor": 2
}
