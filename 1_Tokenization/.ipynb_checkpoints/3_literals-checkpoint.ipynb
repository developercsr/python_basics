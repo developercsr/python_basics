{
 "cells": [
  {
   "cell_type": "code",
   "execution_count": 1,
   "metadata": {},
   "outputs": [
    {
     "name": "stdout",
     "output_type": "stream",
     "text": [
      "dhiyotek  type is  <class 'str'>\n",
      "2024  type is  <class 'int'>\n",
      "1.0  type is  <class 'float'>\n",
      "(2+7j)  type is  <class 'complex'>\n"
     ]
    }
   ],
   "source": [
    "#Literals== Actual Values\n",
    "myname=\"dhiyotek\" #string\n",
    "year=2024 # int\n",
    "time=1.00 # float\n",
    "complex_ex=2+7j\n",
    "#In the above dhiyotek, 2024, 1.00 are Literals of different datatypes\n",
    "print(myname,\" type is \",type(myname))\n",
    "print(year,\" type is \",type(year))\n",
    "print(time,\" type is \",type(time))\n",
    "print(complex_ex,\" type is \",type(complex_ex))"
   ]
  },
  {
   "cell_type": "code",
   "execution_count": 2,
   "metadata": {},
   "outputs": [
    {
     "name": "stdout",
     "output_type": "stream",
     "text": [
      "1 2 3 66 -764\n",
      "1.23 5.654 -3.533\n",
      "(1+2j) (3-5j)\n"
     ]
    }
   ],
   "source": [
    "#Types of Literals\n",
    "#1.Numeric : Divided in to 1.integers 2.floatings 3. complex\n",
    "print(1,2,3,66,-764) #Intergers\n",
    "print(1.23, 5.654, -3.533)#Floating Literals\n",
    "print(1+2j,3-5j)#Complex Literals"
   ]
  },
  {
   "cell_type": "code",
   "execution_count": 6,
   "metadata": {},
   "outputs": [
    {
     "name": "stdout",
     "output_type": "stream",
     "text": [
      "type 1 single line string:\n",
      "i am dhiyotek\n",
      "\n",
      "type2 sigle line string:\n",
      "i am dhiyotek\n",
      "\n",
      "type 1 multi line string:\n",
      "i am dhiyotek\n",
      "a startup from benguluru\n",
      "in raja rajeshwari nagar\n",
      "this is multiline sring\n",
      "\n",
      "type2 multi line string:\n",
      "i am dhiyotek\n",
      "a startup from benguluru\n",
      "in raja rajeshwari nagar\n",
      "this is multiline sring by single quotas\n"
     ]
    }
   ],
   "source": [
    "#2.Strings: Divided into 1.Single Line string Literals 2.Multiline string Literals\n",
    "single_line =\"i am dhiyotek\"\n",
    "single_line2='i am dhiyotek'\n",
    "multi_line=\"\"\"i am dhiyotek\n",
    "a startup from benguluru\n",
    "in raja rajeshwari nagar\n",
    "this is multiline sring\"\"\"\n",
    "multi_line2='''i am dhiyotek\n",
    "a startup from benguluru\n",
    "in raja rajeshwari nagar\n",
    "this is multiline sring by single quotas'''\n",
    "print(f\"type 1 single line string:\\n{single_line}\\n\\ntype2 sigle line string:\\n{single_line2}\\n\")\n",
    "print(f\"type 1 multi line string:\\n{multi_line}\\n\\ntype2 multi line string:\\n{multi_line2}\")\n"
   ]
  },
  {
   "cell_type": "code",
   "execution_count": 8,
   "metadata": {},
   "outputs": [
    {
     "name": "stdout",
     "output_type": "stream",
     "text": [
      "True False\n"
     ]
    }
   ],
   "source": [
    "#3.Boolean Literals True and False\n",
    "true=True\n",
    "false=False\n",
    "print(true,false)"
   ]
  },
  {
   "cell_type": "code",
   "execution_count": 9,
   "metadata": {},
   "outputs": [
    {
     "name": "stdout",
     "output_type": "stream",
     "text": [
      "a is nothing,The value is None\n"
     ]
    }
   ],
   "source": [
    "#4.None type\n",
    "a=None\n",
    "print(f\"a is nothing,The value is {a}\")"
   ]
  },
  {
   "cell_type": "code",
   "execution_count": 13,
   "metadata": {},
   "outputs": [
    {
     "name": "stdout",
     "output_type": "stream",
     "text": [
      "The binary Example :  85\n",
      "The Octal Example :  695\n",
      "The Hexadecimal Example:  9121\n"
     ]
    }
   ],
   "source": [
    "#5.Numeric literal bases : 1.Binary 2.Octa 3.HexaDecimal\n",
    "print(\"The binary Example : \",0b1010101) #The Value of 0b1010101 = 85\n",
    "print(\"The Octal Example : \",0o1267) # The value of 0o1267 = 695\n",
    "print(\"The Hexadecimal Example: \",0x23a1)#The value of 0x23a1 = 9121"
   ]
  }
 ],
 "metadata": {
  "kernelspec": {
   "display_name": "Python 3 (ipykernel)",
   "language": "python",
   "name": "python3"
  },
  "language_info": {
   "codemirror_mode": {
    "name": "ipython",
    "version": 3
   },
   "file_extension": ".py",
   "mimetype": "text/x-python",
   "name": "python",
   "nbconvert_exporter": "python",
   "pygments_lexer": "ipython3",
   "version": "3.11.5"
  }
 },
 "nbformat": 4,
 "nbformat_minor": 4
}
