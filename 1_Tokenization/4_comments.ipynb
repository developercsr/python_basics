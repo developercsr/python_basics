{
 "cells": [
  {
   "cell_type": "code",
   "execution_count": 2,
   "metadata": {},
   "outputs": [
    {
     "name": "stdout",
     "output_type": "stream",
     "text": [
      "After # symbol in the code if we write anything it will be neglected by interpreter\n"
     ]
    }
   ],
   "source": [
    "#Commenst are divided in to single line and multiline\n",
    "#==> Single line Commnets\n",
    "print(\"After # symbol in the code if we write anything it will be neglected by interpreter\")"
   ]
  },
  {
   "cell_type": "code",
   "execution_count": 5,
   "metadata": {},
   "outputs": [
    {
     "name": "stdout",
     "output_type": "stream",
     "text": [
      "The above line will do nothing in sense of interpreter.Comments are jsut for human understanding\n"
     ]
    }
   ],
   "source": [
    "\"\"\" Multiline Comments\n",
    "All these lines are ignored by the python Interpreter\"\"\"\n",
    "print(\"The above line will do nothing in sense of interpreter.Comments are jsut for human understanding\")"
   ]
  },
  {
   "cell_type": "code",
   "execution_count": null,
   "metadata": {},
   "outputs": [],
   "source": []
  }
 ],
 "metadata": {
  "kernelspec": {
   "display_name": "Python 3 (ipykernel)",
   "language": "python",
   "name": "python3"
  },
  "language_info": {
   "codemirror_mode": {
    "name": "ipython",
    "version": 3
   },
   "file_extension": ".py",
   "mimetype": "text/x-python",
   "name": "python",
   "nbconvert_exporter": "python",
   "pygments_lexer": "ipython3",
   "version": "3.11.5"
  }
 },
 "nbformat": 4,
 "nbformat_minor": 4
}
