{
 "cells": [
  {
   "cell_type": "code",
   "execution_count": 5,
   "metadata": {},
   "outputs": [
    {
     "name": "stdout",
     "output_type": "stream",
     "text": [
      "Some examples of the keywords in Python are :: \n",
      " \n",
      "False      await      else       import     pass\n",
      "None       break      except     in         raise\n",
      "True       class      finally    is         return\n",
      "and        continue   for        lambda     try\n",
      "as         def        from       nonlocal   while\n",
      "assert     del        global     not        with\n",
      "async      elif       if         or         yield\n",
      "\n",
      "\n"
     ]
    }
   ],
   "source": [
    "#Key words\n",
    "keywords=\"\"\"\n",
    "False      await      else       import     pass\n",
    "None       break      except     in         raise\n",
    "True       class      finally    is         return\n",
    "and        continue   for        lambda     try\n",
    "as         def        from       nonlocal   while\n",
    "assert     del        global     not        with\n",
    "async      elif       if         or         yield\n",
    "\n",
    "\"\"\"\n",
    "print(\"Some examples of the keywords in Python are :: \\n\",keywords)"
   ]
  },
  {
   "cell_type": "code",
   "execution_count": null,
   "metadata": {},
   "outputs": [],
   "source": []
  }
 ],
 "metadata": {
  "kernelspec": {
   "display_name": "Python 3",
   "language": "python",
   "name": "python3"
  },
  "language_info": {
   "codemirror_mode": {
    "name": "ipython",
    "version": 3
   },
   "file_extension": ".py",
   "mimetype": "text/x-python",
   "name": "python",
   "nbconvert_exporter": "python",
   "pygments_lexer": "ipython3",
   "version": "3.11.5"
  }
 },
 "nbformat": 4,
 "nbformat_minor": 2
}
