{
 "cells": [
  {
   "cell_type": "code",
   "execution_count": 2,
   "metadata": {},
   "outputs": [
    {
     "name": "stdout",
     "output_type": "stream",
     "text": [
      "dhiyotek 2024 1.0\n"
     ]
    }
   ],
   "source": [
    "#Literals== Actual Values\n",
    "myname=\"dhiyotek\"\n",
    "year=2024\n",
    "time=1.00\n",
    "#In the above dhiyotek, 2024, 1.00 are Literals of different datatypes\n",
    "print(myname,year,time)"
   ]
  },
  {
   "cell_type": "code",
   "execution_count": 3,
   "metadata": {},
   "outputs": [
    {
     "name": "stdout",
     "output_type": "stream",
     "text": [
      "1 2 3 66 -764\n",
      "1.23 5.654 -3.533\n",
      "(1+2j) (3-5j)\n"
     ]
    }
   ],
   "source": [
    "#Types of Literals\n",
    "#1.Numeric : Divided in to 1.integers 2.floatings 3. complex\n",
    "print(1,2,3,66,-764) #Intergers\n",
    "print(1.23, 5.654, -3.533)#Floating Literals\n",
    "print(1+2j,3-5j)#Complex Literals"
   ]
  },
  {
   "cell_type": "code",
   "execution_count": null,
   "metadata": {},
   "outputs": [],
   "source": [
    "#2.Strings: Divided into 1.Single Line string Literals 2.Multiline string Literals\n",
    "single_line =\"i am dhiyotek\"\n",
    "single_line2='i am dhiyotek'\n",
    "multi_line=\"\"\"i am dhiyotek\n",
    "a startup from benguluru\n",
    "in raja rajeshwari nagar\n",
    "this is multiline sring\"\"\"\n",
    "multi_line2='''i am dhiyotek\n",
    "a startup from benguluru\n",
    "in raja rajeshwari nagar\n",
    "this is multiline sring by single quotas'''"
   ]
  }
 ],
 "metadata": {
  "kernelspec": {
   "display_name": "Python 3",
   "language": "python",
   "name": "python3"
  },
  "language_info": {
   "codemirror_mode": {
    "name": "ipython",
    "version": 3
   },
   "file_extension": ".py",
   "mimetype": "text/x-python",
   "name": "python",
   "nbconvert_exporter": "python",
   "pygments_lexer": "ipython3",
   "version": "3.11.5"
  }
 },
 "nbformat": 4,
 "nbformat_minor": 2
}
