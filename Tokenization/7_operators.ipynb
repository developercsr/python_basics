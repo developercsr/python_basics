{
 "cells": [
  {
   "cell_type": "code",
   "execution_count": 4,
   "metadata": {},
   "outputs": [
    {
     "name": "stdout",
     "output_type": "stream",
     "text": [
      "Arithmetic Operators in python\n",
      "Addition\n",
      "9 and 5 = 14\n",
      "9 and 9.7 = 18.7\n",
      "Subtraction \n",
      "5 from 9 =  4\n",
      "9.7 from 9 = -0.6999999999999993\n",
      "Multiplication \n",
      "9 with 5 =  45\n",
      "9 with 9.7 = 87.3\n",
      "Division which results in float while dividing \n",
      "9 by 5 = 1.8\n",
      "9 by 9.7 = 0.9278350515463918\n",
      "Floor Division results in Quotient while dividing \n",
      "9 by 5 =  1\n",
      "9 by 9.7 = 0.0\n",
      "Modulus  Division results in Reminder while dividing \n",
      "9 by 5 =  4\n",
      "9 by 9.7 = 9.0\n",
      "Raising to the power \n",
      "9 by 5 =  59049\n",
      "9 by 9.7 = 6025721.315625087\n"
     ]
    }
   ],
   "source": [
    "#Operator are divided in to 9\n",
    "#1.Arithmetic Operators\n",
    "# + , - , * , / , ** , // all these are Arthmetic Operators\n",
    "integer1=9\n",
    "integer2=5\n",
    "float1=9.7\n",
    "print(\"Arithmetic Operators in python\")\n",
    "print(f\"Addition\\n{integer1} and {integer2} =\",integer1+integer2)\n",
    "print(f\"{integer1} and {float1} =\",integer1+float1)\n",
    "print(f\"Subtraction \\n{integer2} from {integer1} = \",integer1-integer2)\n",
    "print(f\"{float1} from {integer1} =\",integer1-float1)\n",
    "print(f\"Multiplication \\n{integer1} with {integer2} = \",integer1*integer2)\n",
    "print(f\"{integer1} with {float1} =\",integer1*float1)\n",
    "print(f\"Division which results in float while dividing \\n{integer1} by {integer2} =\",integer1/integer2)\n",
    "print(f\"{integer1} by {float1} =\",integer1/float1)\n",
    "print(f\"Floor Division results in Quotient while dividing \\n{integer1} by {integer2} = \",integer1//integer2)\n",
    "print(f\"{integer1} by {float1} =\",integer1//float1)\n",
    "print(f\"Modulus  Division results in Reminder while dividing \\n{integer1} by {integer2} = \",integer1%integer2)\n",
    "print(f\"{integer1} by {float1} =\",integer1%float1)\n",
    "print(f\"Raising to the power \\n{integer1} by {integer2} = \",integer1 **integer2)\n",
    "print(f\"{integer1} by {float1} =\",integer2 ** float1)"
   ]
  },
  {
   "cell_type": "code",
   "execution_count": 5,
   "metadata": {},
   "outputs": [
    {
     "name": "stdout",
     "output_type": "stream",
     "text": [
      "Comparision Operators or Relational Operators\n",
      "False\n",
      "True\n",
      "True\n",
      "False\n",
      "True\n",
      "False\n"
     ]
    }
   ],
   "source": [
    "#2.Comparison (Relational) Operators\n",
    "#== ,!= , > , < ,>= ,<= are Comparision Operators in python\n",
    "number1=100\n",
    "number2=99\n",
    "print(\"Comparision Operators or Relational Operators\")\n",
    "print(number1==number2) #==\n",
    "print(number1!=number2) #!=\n",
    "print(number1 > number2) #>\n",
    "print(number1 < number2) #<\n",
    "print(number1 >= number2) # >=\n",
    "print(number1 <= number2) #<="
   ]
  },
  {
   "cell_type": "code",
   "execution_count": 6,
   "metadata": {},
   "outputs": [
    {
     "name": "stdout",
     "output_type": "stream",
     "text": [
      "True\n",
      "False\n",
      "True\n",
      "True\n",
      "False\n"
     ]
    }
   ],
   "source": [
    "#3.Logical Operators\n",
    "#and or not are the Logical Operators in python\n",
    "print(True and True)\n",
    "print(True and False)\n",
    "print(True or True)\n",
    "print(True or False)\n",
    "print(not True)"
   ]
  },
  {
   "cell_type": "code",
   "execution_count": 7,
   "metadata": {},
   "outputs": [
    {
     "name": "stdout",
     "output_type": "stream",
     "text": [
      "5\n",
      "7\n",
      "2\n",
      "-6\n",
      "1\n",
      "28\n"
     ]
    }
   ],
   "source": [
    "#4.Bit wise Operators\n",
    "# &, |, ^, ~, <<, >> are the bitwise Operators\n",
    "a=5\n",
    "b=7\n",
    "print(a & b)\n",
    "print(a | b)\n",
    "print(a ^ b)\n",
    "print(~a)\n",
    "print(a>>2)\n",
    "print(b<<2)"
   ]
  },
  {
   "cell_type": "code",
   "execution_count": 18,
   "metadata": {},
   "outputs": [
    {
     "name": "stdout",
     "output_type": "stream",
     "text": [
      "12\n",
      "24\n",
      "12\n",
      "144\n",
      "12.0\n",
      "1.0\n",
      "1.0\n",
      "1.0\n",
      "0\n",
      "2\n",
      "0\n",
      "0\n",
      "0\n"
     ]
    }
   ],
   "source": [
    "#5.Assignment Opearators\n",
    "# =, +=, -=, *=, /=, //=, %=, **=, &=, |=, ^=, <<=, >>= are the assignment Operators\n",
    "a=12\n",
    "# b is just for test to show how asssignment works\n",
    "b=a\n",
    "print(b)\n",
    "b+=a\n",
    "print(b)\n",
    "b-=a\n",
    "print(b)\n",
    "b*=a\n",
    "print(b)\n",
    "b/=a\n",
    "print(b)\n",
    "b//=a\n",
    "print(b)\n",
    "b%=a\n",
    "print(b)\n",
    "b**=a\n",
    "print(b)\n",
    "b=12\n",
    "b&=2\n",
    "print(b)\n",
    "b|=2\n",
    "print(b)\n",
    "b^=2\n",
    "print(b)\n",
    "b<<=2\n",
    "print(b)\n",
    "b>>=2\n",
    "print(b)"
   ]
  },
  {
   "cell_type": "code",
   "execution_count": 19,
   "metadata": {},
   "outputs": [
    {
     "name": "stdout",
     "output_type": "stream",
     "text": [
      "True\n",
      "False\n",
      "False\n",
      "True\n"
     ]
    }
   ],
   "source": [
    "#6.Membership Operators\n",
    "#in , not in are the membership operators\n",
    "list1=[1,2,3,4,5,6] #Let list1 be the list\n",
    "print(6 in list1)\n",
    "print(2 not in list1)\n",
    "print(7 in list1)\n",
    "print(7 not in list1)"
   ]
  },
  {
   "cell_type": "code",
   "execution_count": 22,
   "metadata": {},
   "outputs": [
    {
     "name": "stdout",
     "output_type": "stream",
     "text": [
      "True\n",
      "False\n",
      "False\n",
      "True\n"
     ]
    }
   ],
   "source": [
    "#7.Identity Operators\n",
    "#is , is not are Identity Operators\n",
    "#is will be true only the compared having same address in the memory\n",
    "#Incase of numbers is works as == and is not works as !=\n",
    "a=[1,2,3]\n",
    "b=a\n",
    "c=[1,2,3]\n",
    "print(a is b)\n",
    "print(a is c)\n",
    "print(a is not b)\n",
    "print(a is not c)"
   ]
  },
  {
   "cell_type": "code",
   "execution_count": 26,
   "metadata": {},
   "outputs": [
    {
     "name": "stdout",
     "output_type": "stream",
     "text": [
      "1\n"
     ]
    }
   ],
   "source": [
    "#8.Ternery Operator\n",
    "#syntax ::::   true_return if condition else return_flase_case\n",
    "x=9\n",
    "y=1\n",
    "value= x if x<y else y\n",
    "print(value)"
   ]
  },
  {
   "cell_type": "code",
   "execution_count": 27,
   "metadata": {},
   "outputs": [
    {
     "name": "stdout",
     "output_type": "stream",
     "text": [
      "Length of 'Hello' is 5, which is 5 or more.\n"
     ]
    }
   ],
   "source": [
    "#9.Walrus Operator\n",
    "#:= This is the walrus operator useful when we want assign a value and use it at a time\n",
    "text = \"Hello\"\n",
    "if (n := len(text)) >= 5:\n",
    "    print(f\"Length of '{text}' is {n}, which is 5 or more.\")\n",
    "else:\n",
    "    print(f\"Length of '{text}' is {n}, which is less than 5.\")"
   ]
  }
 ],
 "metadata": {
  "kernelspec": {
   "display_name": "Python 3",
   "language": "python",
   "name": "python3"
  },
  "language_info": {
   "codemirror_mode": {
    "name": "ipython",
    "version": 3
   },
   "file_extension": ".py",
   "mimetype": "text/x-python",
   "name": "python",
   "nbconvert_exporter": "python",
   "pygments_lexer": "ipython3",
   "version": "3.11.5"
  }
 },
 "nbformat": 4,
 "nbformat_minor": 2
}
