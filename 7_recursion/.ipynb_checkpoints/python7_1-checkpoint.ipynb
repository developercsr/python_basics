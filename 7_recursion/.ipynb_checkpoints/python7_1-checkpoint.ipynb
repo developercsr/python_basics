{
 "cells": [
  {
   "cell_type": "code",
   "execution_count": 1,
   "id": "2cae700a-7493-4fe4-a4d3-f1dbc0233f93",
   "metadata": {},
   "outputs": [
    {
     "name": "stdin",
     "output_type": "stream",
     "text": [
      "Enter a number 5\n"
     ]
    },
    {
     "name": "stdout",
     "output_type": "stream",
     "text": [
      "The Factorial of the given number 5 is 120\n"
     ]
    }
   ],
   "source": [
    "#Recursion :: calling a function itself untill the exit condition is satisfied\n",
    "#Factorial of a number\n",
    "#NORMAL APPROACH\n",
    "def main():\n",
    "    num=int(input(\"Enter a number\"))\n",
    "    rec=1\n",
    "    assert num>=0\n",
    "    for i in range(1,num+1):\n",
    "        rec*=i\n",
    "    print(\"The Factorial of the given number\",num,\"is\",rec)\n",
    "        \n",
    "if __name__==\"__main__\":\n",
    "    main()\n"
   ]
  },
  {
   "cell_type": "code",
   "execution_count": 2,
   "id": "9a10f337-20fe-4af5-93c1-f153581fd5d3",
   "metadata": {},
   "outputs": [
    {
     "name": "stdin",
     "output_type": "stream",
     "text": [
      "Enter an integer greater than or equals to 0 :  6\n"
     ]
    },
    {
     "name": "stdout",
     "output_type": "stream",
     "text": [
      "The Factorial of the given number is  720\n"
     ]
    }
   ],
   "source": [
    "#RECURSION APPROACH\n",
    "def main():\n",
    "    number=int(input(\"Enter an integer greater than or equals to 0 : \"))\n",
    "    print(\"The Factorial of the given number is \",factorial(number))\n",
    "def factorial(nu):\n",
    "    if nu==0|1:\n",
    "        return 1\n",
    "    else:\n",
    "        return nu*factorial(nu-1)\n",
    "if __name__==\"__main__\":\n",
    "    main()"
   ]
  },
  {
   "cell_type": "code",
   "execution_count": 4,
   "id": "541105a9-e911-4f68-bb91-9bc2d51458a7",
   "metadata": {},
   "outputs": [
    {
     "name": "stdin",
     "output_type": "stream",
     "text": [
      "Enter an integer upto which you want fibonacci series :  65\n"
     ]
    },
    {
     "name": "stdout",
     "output_type": "stream",
     "text": [
      "0 1 1 2 3 5 8 13 21 34 55 "
     ]
    }
   ],
   "source": [
    "#FIBONACCI SERIES \n",
    "#NORMAL APPROACH\n",
    "def main():\n",
    "    number=int(input(\"Enter an integer upto which you want fibonacci series : \"))\n",
    "    i=0\n",
    "    k=1\n",
    "    while i<=number :\n",
    "        print(i,end=\" \")\n",
    "        if k<=number:\n",
    "            print(k,end=\" \")\n",
    "        i=i+k\n",
    "        k=i+k\n",
    "        \n",
    "if __name__==\"__main__\":\n",
    "    main()"
   ]
  },
  {
   "cell_type": "code",
   "execution_count": 7,
   "id": "9c276501-d020-4079-8f12-462bf0cf616f",
   "metadata": {},
   "outputs": [
    {
     "name": "stdin",
     "output_type": "stream",
     "text": [
      "Enter how many fibonacci series numbers you want to generate :  9\n"
     ]
    },
    {
     "name": "stdout",
     "output_type": "stream",
     "text": [
      "[0, 1, 1, 2, 3, 5, 8, 13, 21]\n"
     ]
    }
   ],
   "source": [
    "#Fibonacci series with recursion Method\n",
    "def fibonacci(n):\n",
    "    if n <= 0:\n",
    "        return \"Input should be a positive integer.\"\n",
    "    elif n == 1:\n",
    "        return [0]\n",
    "    elif n == 2:\n",
    "        return [0, 1]\n",
    "    else:\n",
    "        series = fibonacci(n - 1)\n",
    "        series.append(series[-1] + series[-2])\n",
    "        return series\n",
    "if __name__==\"__main__\":\n",
    "    number=int(input(\"Enter how many fibonacci series numbers you want to generate : \"))\n",
    "    print(fibonacci(number))"
   ]
  },
  {
   "cell_type": "code",
   "execution_count": 5,
   "id": "a90d4ddd-024b-4626-82d9-55b84738d0fa",
   "metadata": {},
   "outputs": [
    {
     "name": "stdin",
     "output_type": "stream",
     "text": [
      "Enter a string :  i am dhiyotek\n"
     ]
    },
    {
     "name": "stdout",
     "output_type": "stream",
     "text": [
      "The lenth of the string is :  13\n"
     ]
    }
   ],
   "source": [
    "#Length of a string\n",
    "string = input(\"Enter a string : \")\n",
    "count=0\n",
    "for i in string:\n",
    "    count+=1\n",
    "print(\"The lenth of the string is : \",count)\n"
   ]
  },
  {
   "cell_type": "code",
   "execution_count": 6,
   "id": "07531dab-9217-45bd-a4ed-0b56fe1aa230",
   "metadata": {},
   "outputs": [
    {
     "name": "stdin",
     "output_type": "stream",
     "text": [
      "Enter a string :  i am dhiyotek\n"
     ]
    },
    {
     "data": {
      "text/plain": [
       "13"
      ]
     },
     "execution_count": 6,
     "metadata": {},
     "output_type": "execute_result"
    }
   ],
   "source": [
    "#Recursive Approach\n",
    "j=0\n",
    "def length(str):\n",
    "    for i in str:\n",
    "        global j\n",
    "        j+=1\n",
    "        return len(str)   \n",
    "    return j\n",
    "string = input(\"Enter a string : \")\n",
    "length(string)"
   ]
  },
  {
   "cell_type": "code",
   "execution_count": 7,
   "id": "320732b1-f398-4d7c-905c-286fb02ab241",
   "metadata": {},
   "outputs": [
    {
     "name": "stdin",
     "output_type": "stream",
     "text": [
      "Enter a string :  i am dhiyotek\n"
     ]
    },
    {
     "name": "stdout",
     "output_type": "stream",
     "text": [
      "Reversed strig is :  ketoyihd ma i\n"
     ]
    }
   ],
   "source": [
    "#Reversin a string\n",
    "#Normal Approch\n",
    "string = input(\"Enter a string : \")\n",
    "rev=\"\"\n",
    "for i in string:\n",
    "    rev=i+rev\n",
    "print(\"Reversed strig is : \",rev)"
   ]
  },
  {
   "cell_type": "code",
   "execution_count": 8,
   "id": "ba8cb8e1-0afc-4421-9cec-744bb2a9412b",
   "metadata": {},
   "outputs": [
    {
     "name": "stdin",
     "output_type": "stream",
     "text": [
      "Enter a string :  i am dhiyotek\n"
     ]
    },
    {
     "name": "stdout",
     "output_type": "stream",
     "text": [
      "Reversed string is :  ketoyihd ma i\n"
     ]
    }
   ],
   "source": [
    "#Recursive Approach\n",
    "def reverse(k):\n",
    "    if len(k)<=1:\n",
    "        return k\n",
    "    else:\n",
    "        return k[-1]+reverse(k[:-1])\n",
    "string = input(\"Enter a string : \")\n",
    "print(\"Reversed string is : \",reverse(string))"
   ]
  },
  {
   "cell_type": "code",
   "execution_count": 9,
   "id": "db4ba355-b5a9-46eb-8499-8bde6ff25775",
   "metadata": {},
   "outputs": [
    {
     "name": "stdin",
     "output_type": "stream",
     "text": [
      "Enter a string :  i am dhiyotek\n"
     ]
    },
    {
     "name": "stdout",
     "output_type": "stream",
     "text": [
      "The given string is not a palindrome\n"
     ]
    }
   ],
   "source": [
    "#ispalindrome\n",
    "#Normal approach\n",
    "string = input(\"Enter a string : \")\n",
    "if string[::-1]==string:\n",
    "    print(\"The string is a palindrome\")\n",
    "else:\n",
    "    print(\"The given string is not a palindrome\")"
   ]
  },
  {
   "cell_type": "code",
   "execution_count": 10,
   "id": "2217413a-edbb-4b46-b2bd-65ea767732f1",
   "metadata": {},
   "outputs": [
    {
     "name": "stdin",
     "output_type": "stream",
     "text": [
      "Enter a string :  i am dhiyotek\n"
     ]
    },
    {
     "name": "stdout",
     "output_type": "stream",
     "text": [
      "i am dhiyotek is NOT A PLAINDROME\n"
     ]
    }
   ],
   "source": [
    "#RECURSION\n",
    "def palindrome(k):\n",
    "    k=k.lower()#CASE IN SENSITIVE\n",
    "    if len(k) <= 1:\n",
    "        return True\n",
    "    else :\n",
    "        return k[0]==k[-1] and palindrome(k[1:-1])\n",
    "string = input(\"Enter a string : \")\n",
    "check=palindrome(string)\n",
    "if check:\n",
    "  res=\"is PALINDROME\"\n",
    "else :\n",
    "    res=\"is NOT A PLAINDROME\"\n",
    "print (string,res)"
   ]
  },
  {
   "cell_type": "code",
   "execution_count": 1,
   "id": "3641d44f-f5e1-4ee3-a556-b4e07f587cab",
   "metadata": {},
   "outputs": [
    {
     "name": "stdin",
     "output_type": "stream",
     "text": [
      "Enter a list :  [1,[2,3,4,[5,6,[7,8]]]]\n"
     ]
    },
    {
     "name": "stdout",
     "output_type": "stream",
     "text": [
      "[1, 2, 3, 4, 5, 6, 7, 8]\n"
     ]
    }
   ],
   "source": [
    "#Flattening a list\n",
    "def flatten_recursive(lst,lst1=[]):\n",
    "    for element in lst:\n",
    "        if type(element)!=list:\n",
    "            lst1.append(element)\n",
    "        else :\n",
    "            flatten_recursive(element,lst1)\n",
    "    return lst1\n",
    "\n",
    "# Example usage:\n",
    "lst=eval(input(\"Enter a list : \"))\n",
    "result = flatten_recursive(lst)\n",
    "print(result)"
   ]
  },
  {
   "cell_type": "code",
   "execution_count": 13,
   "id": "0e882fcd-2ddc-4e2e-9277-06892921938a",
   "metadata": {},
   "outputs": [
    {
     "name": "stdin",
     "output_type": "stream",
     "text": [
      "Enter a list [1,2,3,4,5]\n"
     ]
    },
    {
     "name": "stdout",
     "output_type": "stream",
     "text": [
      "The copied list is :  [1, 2, 3, 4, 5]\n"
     ]
    }
   ],
   "source": [
    "#Making the copy of a list\n",
    "def copy(li,lis2=[]):#second argument is an default value\n",
    "    if li==[]:\n",
    "        return lis2\n",
    "    else :\n",
    "        lis2.append(li[0])\n",
    "        copy(li[1:],lis2)\n",
    "    return lis2\n",
    "        \n",
    "lst=eval(input(\"Enter a list\"))\n",
    "lis2=copy(lst)\n",
    "print(\"The copied list is : \",lis2)"
   ]
  },
  {
   "cell_type": "code",
   "execution_count": 4,
   "id": "2f2be4be-576b-4a8a-8b49-fb68b9bbbca1",
   "metadata": {},
   "outputs": [
    {
     "name": "stdin",
     "output_type": "stream",
     "text": [
      "Enter a list :  [1,2,3,4,5,6,7,8,9]\n"
     ]
    },
    {
     "name": "stdout",
     "output_type": "stream",
     "text": [
      "The deep copied object is  [1, 2, 3, 4, 5, 6, 7, 8, 9]\n"
     ]
    }
   ],
   "source": [
    "#deep copy\n",
    "\"\"\"\n",
    "A type of copy in which the copy is completly independent of the original and if the orinal made\n",
    "some changes thyat will not reflect to the copied one\n",
    "\"\"\"\n",
    "def deepCopy(lt,lst1=[]):\n",
    "    if lt==[]:\n",
    "        pass\n",
    "    else:\n",
    "        if type(lt[0])!=list:\n",
    "            lst1.append(lt[0])\n",
    "        else:\n",
    "            lst1.append([])\n",
    "            deepCopy(lt[0],lst1[-1])\n",
    "        deepCopy(lt[1:],lst1)\n",
    "    return lst1\n",
    "        \n",
    "def main():\n",
    "    lt=eval(input(\"Enter a list : \"))\n",
    "    dclst=deepCopy(lt)\n",
    "    print(\"The deep copied object is \",dclst)\n",
    "if __name__==\"__main__\":\n",
    "    main()"
   ]
  },
  {
   "cell_type": "code",
   "execution_count": 2,
   "id": "e0555678-108c-42c3-b845-cf98ca8c0b3e",
   "metadata": {},
   "outputs": [
    {
     "name": "stdin",
     "output_type": "stream",
     "text": [
      "Enter the list of elements :  [1,2,3]\n"
     ]
    },
    {
     "name": "stdout",
     "output_type": "stream",
     "text": [
      "[3, 2, 1]\n",
      "[2, 3, 1]\n",
      "[2, 1, 3]\n",
      "[3, 1, 2]\n",
      "[1, 3, 2]\n",
      "[1, 2, 3]\n"
     ]
    }
   ],
   "source": [
    "#PERMUTATIONS\n",
    "def permute(ll,lis1=[],k=0,pos=0):\n",
    "    lis1.insert(pos,ll[k])\n",
    "    if len(lis1)==len(ll):\n",
    "        print(lis1)\n",
    "    else:\n",
    "        permute(ll,lis1,k+1,0)\n",
    "    lis1.remove(ll[k])\n",
    "    if pos<k:\n",
    "        permute(ll,lis1,k,pos+1)\n",
    "def main():\n",
    "    li=eval(input(\"Enter the list of elements : \"))\n",
    "    res=permute(li)\n",
    "if __name__==\"__main__\":\n",
    "    main()"
   ]
  },
  {
   "cell_type": "code",
   "execution_count": 3,
   "id": "7b048421-d1ed-4b59-b1cb-5a1856a87034",
   "metadata": {},
   "outputs": [
    {
     "name": "stdin",
     "output_type": "stream",
     "text": [
      "Enter no.of dics :  5\n",
      "Enter the source pole :  3\n",
      "Enter the spare pole :  3\n",
      "Enter target pole :  3\n"
     ]
    },
    {
     "name": "stdout",
     "output_type": "stream",
     "text": [
      "Move 1 disk from 3 to 3\n",
      "Move 2 disc from  3 to 3\n",
      "Move 1 disk from 3 to 3\n",
      "Move 3 disc from  3 to 3\n",
      "Move 1 disk from 3 to 3\n",
      "Move 2 disc from  3 to 3\n",
      "Move 1 disk from 3 to 3\n",
      "Move 4 disc from  3 to 3\n",
      "Move 1 disk from 3 to 3\n",
      "Move 2 disc from  3 to 3\n",
      "Move 1 disk from 3 to 3\n",
      "Move 3 disc from  3 to 3\n",
      "Move 1 disk from 3 to 3\n",
      "Move 2 disc from  3 to 3\n",
      "Move 1 disk from 3 to 3\n",
      "Move 5 disc from  3 to 3\n",
      "Move 1 disk from 3 to 3\n",
      "Move 2 disc from  3 to 3\n",
      "Move 1 disk from 3 to 3\n",
      "Move 3 disc from  3 to 3\n",
      "Move 1 disk from 3 to 3\n",
      "Move 2 disc from  3 to 3\n",
      "Move 1 disk from 3 to 3\n",
      "Move 4 disc from  3 to 3\n",
      "Move 1 disk from 3 to 3\n",
      "Move 2 disc from  3 to 3\n",
      "Move 1 disk from 3 to 3\n",
      "Move 3 disc from  3 to 3\n",
      "Move 1 disk from 3 to 3\n",
      "Move 2 disc from  3 to 3\n",
      "Move 1 disk from 3 to 3\n"
     ]
    }
   ],
   "source": [
    "#TOWER OF HANOI\n",
    "def hanoi(n,source,spare,target):\n",
    "    if n==1:\n",
    "        print(\"Move\",n,\"disk from\",source,\"to\",target)\n",
    "    elif n==0:\n",
    "        return\n",
    "    else:\n",
    "        hanoi(n-1,source,target,spare)\n",
    "        print(\"Move\",n,\"disc from \",source,\"to\",target)\n",
    "        hanoi(n-1,spare,source,target)\n",
    "def main():\n",
    "    n=int(input(\"Enter no.of dics : \"))\n",
    "    source=int(input(\"Enter the source pole : \"))\n",
    "    spare=int(input(\"Enter the spare pole : \"))\n",
    "    target=int(input(\"Enter target pole : \"))\n",
    "    hanoi(n,source,spare,target)\n",
    "if __name__ ==\"__main__\":\n",
    "    main()"
   ]
  },
  {
   "cell_type": "code",
   "execution_count": null,
   "id": "97c96aa1-eddc-4431-a162-63a5657f1efa",
   "metadata": {},
   "outputs": [],
   "source": []
  }
 ],
 "metadata": {
  "kernelspec": {
   "display_name": "Python 3 (ipykernel)",
   "language": "python",
   "name": "python3"
  },
  "language_info": {
   "codemirror_mode": {
    "name": "ipython",
    "version": 3
   },
   "file_extension": ".py",
   "mimetype": "text/x-python",
   "name": "python",
   "nbconvert_exporter": "python",
   "pygments_lexer": "ipython3",
   "version": "3.11.5"
  }
 },
 "nbformat": 4,
 "nbformat_minor": 5
}
