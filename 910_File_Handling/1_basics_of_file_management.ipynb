{
 "cells": [
  {
   "cell_type": "code",
   "execution_count": 1,
   "id": "78648367-d2ae-4cff-a768-683550a293df",
   "metadata": {},
   "outputs": [
    {
     "ename": "FileNotFoundError",
     "evalue": "[Errno 2] No such file or directory: 'test1.txt'",
     "output_type": "error",
     "traceback": [
      "\u001b[1;31m---------------------------------------------------------------------------\u001b[0m",
      "\u001b[1;31mFileNotFoundError\u001b[0m                         Traceback (most recent call last)",
      "Cell \u001b[1;32mIn[1], line 1\u001b[0m\n\u001b[1;32m----> 1\u001b[0m fileptr \u001b[38;5;241m=\u001b[39m \u001b[38;5;28;43mopen\u001b[39;49m\u001b[43m(\u001b[49m\u001b[38;5;124;43m\"\u001b[39;49m\u001b[38;5;124;43mtest1.txt\u001b[39;49m\u001b[38;5;124;43m\"\u001b[39;49m\u001b[43m,\u001b[49m\u001b[38;5;124;43m\"\u001b[39;49m\u001b[38;5;124;43mr\u001b[39;49m\u001b[38;5;124;43m\"\u001b[39;49m\u001b[43m)\u001b[49m    \n\u001b[0;32m      2\u001b[0m \u001b[38;5;28;01mif\u001b[39;00m fileptr:    \n\u001b[0;32m      3\u001b[0m     \u001b[38;5;28mprint\u001b[39m(\u001b[38;5;124m\"\u001b[39m\u001b[38;5;124mfile is opened successfully\u001b[39m\u001b[38;5;124m\"\u001b[39m)    \n",
      "File \u001b[1;32mC:\\Program Files\\Python311\\Lib\\site-packages\\IPython\\core\\interactiveshell.py:310\u001b[0m, in \u001b[0;36m_modified_open\u001b[1;34m(file, *args, **kwargs)\u001b[0m\n\u001b[0;32m    303\u001b[0m \u001b[38;5;28;01mif\u001b[39;00m file \u001b[38;5;129;01min\u001b[39;00m {\u001b[38;5;241m0\u001b[39m, \u001b[38;5;241m1\u001b[39m, \u001b[38;5;241m2\u001b[39m}:\n\u001b[0;32m    304\u001b[0m     \u001b[38;5;28;01mraise\u001b[39;00m \u001b[38;5;167;01mValueError\u001b[39;00m(\n\u001b[0;32m    305\u001b[0m         \u001b[38;5;124mf\u001b[39m\u001b[38;5;124m\"\u001b[39m\u001b[38;5;124mIPython won\u001b[39m\u001b[38;5;124m'\u001b[39m\u001b[38;5;124mt let you open fd=\u001b[39m\u001b[38;5;132;01m{\u001b[39;00mfile\u001b[38;5;132;01m}\u001b[39;00m\u001b[38;5;124m by default \u001b[39m\u001b[38;5;124m\"\u001b[39m\n\u001b[0;32m    306\u001b[0m         \u001b[38;5;124m\"\u001b[39m\u001b[38;5;124mas it is likely to crash IPython. If you know what you are doing, \u001b[39m\u001b[38;5;124m\"\u001b[39m\n\u001b[0;32m    307\u001b[0m         \u001b[38;5;124m\"\u001b[39m\u001b[38;5;124myou can use builtins\u001b[39m\u001b[38;5;124m'\u001b[39m\u001b[38;5;124m open.\u001b[39m\u001b[38;5;124m\"\u001b[39m\n\u001b[0;32m    308\u001b[0m     )\n\u001b[1;32m--> 310\u001b[0m \u001b[38;5;28;01mreturn\u001b[39;00m \u001b[43mio_open\u001b[49m\u001b[43m(\u001b[49m\u001b[43mfile\u001b[49m\u001b[43m,\u001b[49m\u001b[43m \u001b[49m\u001b[38;5;241;43m*\u001b[39;49m\u001b[43margs\u001b[49m\u001b[43m,\u001b[49m\u001b[43m \u001b[49m\u001b[38;5;241;43m*\u001b[39;49m\u001b[38;5;241;43m*\u001b[39;49m\u001b[43mkwargs\u001b[49m\u001b[43m)\u001b[49m\n",
      "\u001b[1;31mFileNotFoundError\u001b[0m: [Errno 2] No such file or directory: 'test1.txt'"
     ]
    }
   ],
   "source": [
    "fileptr = open(\"test1.txt\",\"r\")    \n",
    "if fileptr:    \n",
    "    print(\"file is opened successfully\")    "
   ]
  },
  {
   "cell_type": "code",
   "execution_count": 16,
   "id": "81f866d0-bea9-4836-99ae-e5002908934b",
   "metadata": {},
   "outputs": [
    {
     "name": "stdout",
     "output_type": "stream",
     "text": [
      "file is opened successfully\n"
     ]
    }
   ],
   "source": [
    "fileptr = open(\"file.txt\",\"w\")    \n",
    "    \n",
    "if fileptr:    \n",
    "    print(\"file is opened successfully\")    "
   ]
  },
  {
   "cell_type": "code",
   "execution_count": 17,
   "id": "bfa17700-967a-4010-9cc1-1b27d3437e69",
   "metadata": {},
   "outputs": [
    {
     "name": "stdout",
     "output_type": "stream",
     "text": [
      "file is opened successfully\n"
     ]
    }
   ],
   "source": [
    "fileptr = open(\"file.txt\",\"r\")    \n",
    "    \n",
    "if fileptr:    \n",
    "    print(\"file is opened successfully\")    "
   ]
  },
  {
   "cell_type": "code",
   "execution_count": 18,
   "id": "baa992e5-13a8-40a1-8c7e-8c919a332bd7",
   "metadata": {},
   "outputs": [
    {
     "name": "stdout",
     "output_type": "stream",
     "text": [
      "File Closed Successfully\n"
     ]
    }
   ],
   "source": [
    "try:\n",
    "    fileptr.close()\n",
    "    print(\"File Closed Successfully\")\n",
    "except Exception as e:\n",
    "    print(f\"An error occurred: {e}\")"
   ]
  },
  {
   "cell_type": "code",
   "execution_count": 21,
   "id": "236ab81f-e46a-430e-b796-ad316a81a25d",
   "metadata": {},
   "outputs": [],
   "source": [
    "#Writing to a file\n",
    "fileptr = open(\"file.txt\",\"r+\")\n",
    "try:\n",
    "    fileptr.write(\"Hari om\")\n",
    "except:\n",
    "    print(\"Error has Occured\")\n",
    "fileptr.close()"
   ]
  },
  {
   "cell_type": "code",
   "execution_count": 33,
   "id": "dbf73fc4-94bf-462c-9b82-32d1792af33b",
   "metadata": {},
   "outputs": [
    {
     "data": {
      "text/plain": [
       "'Hari om\\nI am dhiyotek\\nI am writing this file in append mode Hari om\\nI am dhiyotek\\nI am writing this file in append mode '"
      ]
     },
     "execution_count": 33,
     "metadata": {},
     "output_type": "execute_result"
    }
   ],
   "source": [
    "#Writing th efile in append mode\n",
    "fa=open(\"file1.txt\",\"a\")\n",
    "fa.write(\"Hari om\")\n",
    "fa.write(\"\\nI am dhiyotek\")\n",
    "fa.write(\"\\nI am writing this file in append mode \")\n",
    "fa.close()\n",
    "fa=open(\"file1.txt\",\"r\")\n",
    "content=fa.read()\n",
    "fa.close()\n",
    "content"
   ]
  },
  {
   "cell_type": "code",
   "execution_count": 37,
   "id": "8c3c8ef0-fddc-40a2-8dc4-b0755f2b01cb",
   "metadata": {},
   "outputs": [
    {
     "data": {
      "text/plain": [
       "'Hari om\\nI am dhiyotek\\nI am writing this file in append mode '"
      ]
     },
     "execution_count": 37,
     "metadata": {},
     "output_type": "execute_result"
    }
   ],
   "source": [
    "#Writing th efile in append plus mode\n",
    "fa=open(\"file1.txt\",\"a+\")\n",
    "fa.seek(0)\n",
    "content=fa.read()\n",
    "fa.close()\n",
    "content"
   ]
  },
  {
   "cell_type": "code",
   "execution_count": 8,
   "id": "0a279e8a-a156-45ef-8f47-6ba18e1feb66",
   "metadata": {},
   "outputs": [
    {
     "name": "stdout",
     "output_type": "stream",
     "text": [
      "Now the pointer is at the position  :0\n",
      "Now the pointer is moved to the beginning of the file : 0\n",
      "Now the pointer moved to the position : 1\n",
      "Now the pointer moved to the position : 40\n",
      "Now the pointer moved from 16 bytes for ward from the current position i.e., 54\n",
      "Now the pointer moves 10 bytes back from the curreny position i.e.,44\n",
      "Now the pointer moved to the end of teh file :0\n"
     ]
    }
   ],
   "source": [
    "fseek=open(\"file.txt\",\"rb\")\n",
    "print(f\"Now the pointer is at the position  :{fseek.tell()}\")\n",
    "fseek.seek(0)\n",
    "print(f\"Now the pointer is moved to the beginning of the file : {fseek.tell()}\")\n",
    "fseek.seek(1)\n",
    "print(f\"Now the pointer moved to the position : {fseek.tell()}\")\n",
    "fseek.seek(40)\n",
    "print(f\"Now the pointer moved to the position : {fseek.tell()}\")\n",
    "fseek.seek(14,1)\n",
    "print(f\"Now the pointer moved from 16 bytes for ward from the current position i.e., {fseek.tell()}\")\n",
    "fseek.seek(-10,1)\n",
    "print(f\"Now the pointer moves 10 bytes back from the curreny position i.e.,{fseek.tell()}\")\n",
    "fseek.seek(0,2)\n",
    "print(f\"Now the pointer moved to the end of teh file :{fseek.tell()}\")"
   ]
  },
  {
   "cell_type": "code",
   "execution_count": null,
   "id": "a17ef723-5f2e-4458-8ee7-e9f2549f4066",
   "metadata": {},
   "outputs": [],
   "source": [
    "#using with for file handling\n",
    "content=\"\"\n",
    "with open(\"file.txt\",\"r\") as fr:\n",
    "    content=fr.read()\n",
    "print(content)"
   ]
  },
  {
   "cell_type": "code",
   "execution_count": 9,
   "id": "217c0085-e6b5-49c6-9b17-907ea8c41e6e",
   "metadata": {},
   "outputs": [
    {
     "ename": "SyntaxError",
     "evalue": "Missing parentheses in call to 'print'. Did you mean print(...)? (796388850.py, line 1)",
     "output_type": "error",
     "traceback": [
      "\u001b[1;36m  Cell \u001b[1;32mIn[9], line 1\u001b[1;36m\u001b[0m\n\u001b[1;33m    print \"Hello World\"\u001b[0m\n\u001b[1;37m    ^\u001b[0m\n\u001b[1;31mSyntaxError\u001b[0m\u001b[1;31m:\u001b[0m Missing parentheses in call to 'print'. Did you mean print(...)?\n"
     ]
    }
   ],
   "source": [
    "print \"Hello World\""
   ]
  },
  {
   "cell_type": "code",
   "execution_count": null,
   "id": "ecc90c78-19dd-4c4e-9399-be1dbeb88c9d",
   "metadata": {},
   "outputs": [],
   "source": []
  }
 ],
 "metadata": {
  "kernelspec": {
   "display_name": "Python 3 (ipykernel)",
   "language": "python",
   "name": "python3"
  },
  "language_info": {
   "codemirror_mode": {
    "name": "ipython",
    "version": 3
   },
   "file_extension": ".py",
   "mimetype": "text/x-python",
   "name": "python",
   "nbconvert_exporter": "python",
   "pygments_lexer": "ipython3",
   "version": "3.11.5"
  }
 },
 "nbformat": 4,
 "nbformat_minor": 5
}
