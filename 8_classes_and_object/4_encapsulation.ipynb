{
 "cells": [
  {
   "cell_type": "code",
   "execution_count": 1,
   "metadata": {},
   "outputs": [
    {
     "name": "stdout",
     "output_type": "stream",
     "text": [
      "GeeksforGeeks\n",
      "Calling private member of base class: \n",
      "Raise an Attribute Error as c is the private member of the Base Class\n"
     ]
    }
   ],
   "source": [
    "#Encapsulation\n",
    "# Python program to\n",
    "# demonstrate private members\n",
    "# \"__\" double underscore represents private attribute. \n",
    "# Private attributes start with \"__\".\n",
    "\n",
    "# Creating a Base class\n",
    "class Base:\n",
    "    def __init__(self):\n",
    "        self.a = \"GeeksforGeeks\"\n",
    "        self.__c = \"GeeksforGeeks\" \n",
    "\n",
    "# Creating a derived class\n",
    "class Derived(Base):\n",
    "    def __init__(self):\n",
    "\n",
    "        # Calling constructor of\n",
    "        # Base class\n",
    "        Base.__init__(self)\n",
    "        print(\"Calling private member of base class: \")\n",
    "        print(self.__c)\n",
    "\n",
    "\n",
    "# Driver code\n",
    "obj1 = Base()\n",
    "print(obj1.a)\n",
    "try:\n",
    "    obj2=Derived()\n",
    "except:\n",
    "    print(\"Raise an Attribute Error as c is the private member of the Base Class\")"
   ]
  },
  {
   "cell_type": "code",
   "execution_count": 1,
   "metadata": {},
   "outputs": [
    {
     "name": "stdout",
     "output_type": "stream",
     "text": [
      "Toyota\n",
      "Toyota Corolla\n"
     ]
    }
   ],
   "source": [
    "#public variables\n",
    "class Car:\n",
    "    def __init__(self, brand, model):\n",
    "        self.brand = brand     # Public attribute\n",
    "        self.model = model     # Public attribute\n",
    "\n",
    "    def display_info(self):\n",
    "        return f\"{self.brand} {self.model}\"\n",
    "\n",
    "my_car = Car(\"Toyota\", \"Corolla\")\n",
    "print(my_car.brand)   # Accessing public attribute\n",
    "print(my_car.display_info())   # Accessing public method"
   ]
  },
  {
   "cell_type": "code",
   "execution_count": 2,
   "metadata": {},
   "outputs": [
    {
     "name": "stdout",
     "output_type": "stream",
     "text": [
      "Name: Buddy, Age: 3, Breed: Golden Retriever\n",
      "Buddy\n",
      "3\n"
     ]
    }
   ],
   "source": [
    "#protected Variables\n",
    "class Animal:\n",
    "    def __init__(self, name, age):\n",
    "        self._name = name  # Protected variable\n",
    "        self._age = age    # Protected variable\n",
    "\n",
    "    def display_info(self):\n",
    "        return f\"Name: {self._name}, Age: {self._age}\"\n",
    "\n",
    "class Dog(Animal):\n",
    "    def __init__(self, name, age, breed):\n",
    "        super().__init__(name, age)\n",
    "        self.breed = breed\n",
    "\n",
    "    def display_dog_info(self):\n",
    "        return f\"{self.display_info()}, Breed: {self.breed}\"\n",
    "\n",
    "my_dog = Dog(\"Buddy\", 3, \"Golden Retriever\")\n",
    "print(my_dog.display_dog_info())  # Accessing protected variables through methods\n",
    "\n",
    "# Accessing protected variables directly (not recommended)\n",
    "print(my_dog._name)\n",
    "print(my_dog._age)\n"
   ]
  },
  {
   "cell_type": "code",
   "execution_count": 3,
   "metadata": {},
   "outputs": [
    {
     "name": "stdout",
     "output_type": "stream",
     "text": [
      "Brand: Toyota, Model: Camry, Year: 2020\n",
      "Cannot access private variable directly.\n",
      "Toyota\n",
      "Cannot access private method directly.\n",
      "This is a private method.\n"
     ]
    }
   ],
   "source": [
    "#private Variables\n",
    "class Car:\n",
    "    def __init__(self, brand, model, year):\n",
    "        self.__brand = brand  # Private variable\n",
    "        self.__model = model  # Private variable\n",
    "        self.__year = year    # Private variable\n",
    "\n",
    "    def display_info(self):\n",
    "        return f\"Brand: {self.__brand}, Model: {self.__model}, Year: {self.__year}\"\n",
    "\n",
    "    # Private method\n",
    "    def __private_method(self):\n",
    "        return \"This is a private method.\"\n",
    "\n",
    "    # Public method to access private method\n",
    "    def access_private_method(self):\n",
    "        return self.__private_method()\n",
    "my_car = Car(\"Toyota\", \"Camry\", 2020)\n",
    "print(my_car.display_info())  # Accessing through a public method\n",
    "# Trying to access private variables directly (will raise an AttributeError)\n",
    "try:\n",
    "    print(my_car.__brand)\n",
    "except AttributeError:\n",
    "    print(\"Cannot access private variable directly.\")\n",
    "# Accessing private variables using name mangling\n",
    "print(my_car._Car__brand)\n",
    "# Trying to access private method directly (will raise an AttributeError)\n",
    "try:\n",
    "    print(my_car.__private_method())\n",
    "except AttributeError:\n",
    "    print(\"Cannot access private method directly.\")\n",
    "\n",
    "# Accessing private method through a public method\n",
    "print(my_car.access_private_method())\n"
   ]
  },
  {
   "cell_type": "code",
   "execution_count": null,
   "metadata": {},
   "outputs": [],
   "source": []
  }
 ],
 "metadata": {
  "kernelspec": {
   "display_name": "Python 3 (ipykernel)",
   "language": "python",
   "name": "python3"
  },
  "language_info": {
   "codemirror_mode": {
    "name": "ipython",
    "version": 3
   },
   "file_extension": ".py",
   "mimetype": "text/x-python",
   "name": "python",
   "nbconvert_exporter": "python",
   "pygments_lexer": "ipython3",
   "version": "3.11.5"
  }
 },
 "nbformat": 4,
 "nbformat_minor": 4
}
