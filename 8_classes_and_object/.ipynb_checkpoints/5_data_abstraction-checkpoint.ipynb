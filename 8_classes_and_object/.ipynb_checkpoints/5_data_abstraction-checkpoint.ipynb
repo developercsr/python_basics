{
 "cells": [
  {
   "cell_type": "code",
   "execution_count": 4,
   "metadata": {},
   "outputs": [
    {
     "name": "stdout",
     "output_type": "stream",
     "text": [
      "The mileage is 30kmph\n",
      "The mileage is 27kmph \n",
      "The mileage is 25kmph \n",
      "The mileage is 24kmph \n"
     ]
    }
   ],
   "source": [
    "# Python program demonstrate\n",
    "# abstract base class work \n",
    "from abc import ABC\n",
    "class Car(ABC):\n",
    "    def mileage(self):\n",
    "        pass\n",
    "class Tesla(Car):\n",
    "    def mileage(self):\n",
    "        print(\"The mileage is 30kmph\")\n",
    "class Suzuki(Car):\n",
    "    def mileage(self):\n",
    "        print(\"The mileage is 25kmph \")\n",
    "class Duster(Car):\n",
    "     def mileage(self):\n",
    "          print(\"The mileage is 24kmph \")\n",
    "  \n",
    "class Renault(Car):\n",
    "    def mileage(self):\n",
    "            print(\"The mileage is 27kmph \")\n",
    "          \n",
    "# Driver code   \n",
    "t= Tesla ()\n",
    "t.mileage()\n",
    "  \n",
    "r = Renault()\n",
    "r.mileage()\n",
    "  \n",
    "s = Suzuki()\n",
    "s.mileage()\n",
    "d = Duster()\n",
    "d.mileage()"
   ]
  },
  {
   "cell_type": "code",
   "execution_count": null,
   "metadata": {},
   "outputs": [],
   "source": []
  }
 ],
 "metadata": {
  "kernelspec": {
   "display_name": "Python 3",
   "language": "python",
   "name": "python3"
  },
  "language_info": {
   "codemirror_mode": {
    "name": "ipython",
    "version": 3
   },
   "file_extension": ".py",
   "mimetype": "text/x-python",
   "name": "python",
   "nbconvert_exporter": "python",
   "pygments_lexer": "ipython3",
   "version": "3.11.5"
  }
 },
 "nbformat": 4,
 "nbformat_minor": 2
}
