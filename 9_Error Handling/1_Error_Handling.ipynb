{
 "cells": [
  {
   "cell_type": "code",
   "execution_count": 3,
   "id": "69cc385d-a827-48fc-8e34-fd2d13fb17ab",
   "metadata": {},
   "outputs": [
    {
     "name": "stdout",
     "output_type": "stream",
     "text": [
      "5.0\n",
      "Error: Division by zero!\n",
      "None\n"
     ]
    }
   ],
   "source": [
    "#Basic Example\n",
    "def divide_numbers(a, b):\n",
    "    try:\n",
    "        result = a / b\n",
    "    except ZeroDivisionError:\n",
    "        print(\"Error: Division by zero!\")\n",
    "        return None\n",
    "    else:\n",
    "        return result\n",
    "\n",
    "# Example usage:\n",
    "print(divide_numbers(10, 2))   # Output: 5.0\n",
    "print(divide_numbers(10, 0))   # Output: Error: Division by zero!, None\n"
   ]
  },
  {
   "cell_type": "code",
   "execution_count": 4,
   "id": "f942d79c-30b0-412b-af7c-ea0c513381ec",
   "metadata": {},
   "outputs": [
    {
     "name": "stdout",
     "output_type": "stream",
     "text": [
      "addingNumbers() missing 1 required positional argument: 'n2'\n"
     ]
    }
   ],
   "source": [
    "#Knowing type of error\n",
    "def addingNumbers(n1,n2):\n",
    "    return n1+n2\n",
    "if __name__==\"__main__\":\n",
    "    try:\n",
    "        addingNumbers(2)\n",
    "    except Exception as e:\n",
    "        print(e)"
   ]
  },
  {
   "cell_type": "code",
   "execution_count": 8,
   "id": "310f48a3-cbde-4e5f-abe8-207e424386ad",
   "metadata": {},
   "outputs": [
    {
     "name": "stdout",
     "output_type": "stream",
     "text": [
      "48\n",
      "Program Completed\n"
     ]
    }
   ],
   "source": [
    "def demostratingFInally(n1,n2):\n",
    "    return n1+n2\n",
    "if __name__==\"__main__\":\n",
    "    try:\n",
    "        print(demostratingFInally(23,25))\n",
    "    except:\n",
    "        print(\"Error Occured!\")\n",
    "    finally:\n",
    "        print(\"Program Completed\")"
   ]
  },
  {
   "cell_type": "code",
   "execution_count": 10,
   "id": "43072af4-dfbc-4707-bc2f-8ff789880c47",
   "metadata": {},
   "outputs": [
    {
     "name": "stdin",
     "output_type": "stream",
     "text": [
      "Enter age:  5\n"
     ]
    },
    {
     "name": "stdout",
     "output_type": "stream",
     "text": [
      "Error: Not eligible for voting.\n"
     ]
    }
   ],
   "source": [
    "#raise\n",
    "class NotEligibleForVotingError(Exception):\n",
    "    def __init__(self, message=\"Not eligible for voting.\"):\n",
    "        self.message = message\n",
    "        super().__init__(self.message)\n",
    "\n",
    "if __name__ == \"__main__\":\n",
    "    try:\n",
    "        age = int(input(\"Enter age: \"))\n",
    "        if age < 18:\n",
    "            raise NotEligibleForVotingError()\n",
    "        else:\n",
    "            print(\"Eligible for voting.\")\n",
    "    except ValueError:\n",
    "        print(\"Error: Please enter a valid integer age.\")\n",
    "    except NotEligibleForVotingError as e:\n",
    "        print(f\"Error: {e}\")\n"
   ]
  },
  {
   "cell_type": "code",
   "execution_count": null,
   "id": "cb905135-74e1-4eba-a366-c17b8561c098",
   "metadata": {},
   "outputs": [],
   "source": []
  }
 ],
 "metadata": {
  "kernelspec": {
   "display_name": "Python 3 (ipykernel)",
   "language": "python",
   "name": "python3"
  },
  "language_info": {
   "codemirror_mode": {
    "name": "ipython",
    "version": 3
   },
   "file_extension": ".py",
   "mimetype": "text/x-python",
   "name": "python",
   "nbconvert_exporter": "python",
   "pygments_lexer": "ipython3",
   "version": "3.11.5"
  }
 },
 "nbformat": 4,
 "nbformat_minor": 5
}
