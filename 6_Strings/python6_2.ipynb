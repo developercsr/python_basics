{
 "cells": [
  {
   "cell_type": "code",
   "execution_count": 13,
   "id": "85b9b264-e206-48f1-9a83-ca4c46979d5d",
   "metadata": {},
   "outputs": [
    {
     "name": "stdin",
     "output_type": "stream",
     "text": [
      "Enter the string1 :  dsdds\n",
      "Enter the 2 nd string :  dsdsdsd\n"
     ]
    },
    {
     "name": "stdout",
     "output_type": "stream",
     "text": [
      "d : 4\n",
      "s : 3\n"
     ]
    }
   ],
   "source": [
    "m=input(\"Enter the string1 : \")\n",
    "n=input(\"Enter the 2 nd string : \")\n",
    "for i in range (len(m)):\n",
    "    mm=m[i]\n",
    "    if not (mm in m[:i]):\n",
    "        count=0\n",
    "        for j in range(len(n)):\n",
    "            if m[i]==n[j]:\n",
    "                count+=1\n",
    "        print(m[i] ,\":\", count)"
   ]
  },
  {
   "cell_type": "code",
   "execution_count": null,
   "id": "c7f5f906-cb42-447f-ba57-f09df6a8246c",
   "metadata": {},
   "outputs": [],
   "source": []
  }
 ],
 "metadata": {
  "kernelspec": {
   "display_name": "Python 3 (ipykernel)",
   "language": "python",
   "name": "python3"
  },
  "language_info": {
   "codemirror_mode": {
    "name": "ipython",
    "version": 3
   },
   "file_extension": ".py",
   "mimetype": "text/x-python",
   "name": "python",
   "nbconvert_exporter": "python",
   "pygments_lexer": "ipython3",
   "version": "3.11.5"
  }
 },
 "nbformat": 4,
 "nbformat_minor": 5
}
