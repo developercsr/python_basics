{
 "cells": [
  {
   "cell_type": "code",
   "execution_count": 4,
   "id": "b17dba42-bbd0-45cd-8485-cf4e965ada23",
   "metadata": {},
   "outputs": [
    {
     "name": "stdout",
     "output_type": "stream",
     "text": [
      "39\n",
      "  I am\n",
      "m\n",
      "h\n",
      " Ia h\n",
      "  hcet.B ym detelpmoc I,ketoyihD ma I  \n",
      "moc I,ketoy\n",
      "eepo ,eoiD\n",
      " Dhiyotek,I completed my B.tech  \n",
      "  I am Dh\n"
     ]
    }
   ],
   "source": [
    "x=\"  I am Dhiyotek,I completed my B.tech  \"\n",
    "print(len(x))\n",
    "#@slicing\n",
    "print(x[0:6])#[start,end]\n",
    "print(x[5])\n",
    "print(x[-3])#negitive index\n",
    "print(x[0:9:2])#[strat:end):step]\n",
    "print(x[::-1])#String reverse\n",
    "print(x[20:9:-1])\n",
    "print(x[25:6:-2])\n",
    "print(x[6:])\n",
    "print(x[:9])"
   ]
  },
  {
   "cell_type": "code",
   "execution_count": 12,
   "id": "1d2a97f0-ee98-401e-9aaa-92da95280f76",
   "metadata": {},
   "outputs": [
    {
     "name": "stdout",
     "output_type": "stream",
     "text": [
      "False\n",
      "True\n"
     ]
    }
   ],
   "source": [
    "#Membership Operators\n",
    "print(\"llo\"in x)\n",
    "print(\"man\" in x)"
   ]
  },
  {
   "cell_type": "code",
   "execution_count": 16,
   "id": "feaa0892-c24b-46b6-aa50-dd3f8c6bf58f",
   "metadata": {},
   "outputs": [
    {
     "name": "stdout",
     "output_type": "stream",
     "text": [
      "1\n",
      "9\n",
      "9\n",
      "-1\n"
     ]
    }
   ],
   "source": [
    "#Built in functions on strings in python\n",
    "print(x.count(\"l\"))#findhow many substrings are there\n",
    "print(x.find(\"Dh\")) #starting index of the sub string\n",
    "print(x.rfind(\"Dhiyo\"))#finds the last similar one gives its starting {{{{if it fails to find then it returns  -1\n",
    "print(x.rfind(\"eeee\"))"
   ]
  },
  {
   "cell_type": "code",
   "execution_count": 19,
   "id": "2b01dfe2-a402-407e-9cb1-493ddaa5a7dd",
   "metadata": {},
   "outputs": [
    {
     "name": "stdout",
     "output_type": "stream",
     "text": [
      "  i am sumanth,i completed my b.tech  \n",
      "  I AM SUMANTH,I COMPLETED MY B.TECH  \n",
      "  I Am Sumanth,I Completed My B.Tech  \n",
      "  i am sumanth,i completed my b.tech  \n",
      "  i AM sUMANTH,i COMPLETED MY b.TECH  \n"
     ]
    }
   ],
   "source": [
    "#Transforming a string\n",
    "print(x.lower())\n",
    "print(x.upper())\n",
    "print(x.title())\n",
    "print(x.capitalize())#First letter in the string to upper case #here 1 st letter is space\n",
    "print(x.swapcase())#upper to lower ,lower to upper"
   ]
  },
  {
   "cell_type": "code",
   "execution_count": 21,
   "id": "2b254efb-c737-4fd9-b464-397144ae3f3a",
   "metadata": {},
   "outputs": [
    {
     "name": "stdout",
     "output_type": "stream",
     "text": [
      "True\n",
      "True\n",
      "True\n",
      "SUMwNTH\n",
      "I am Sumanth,I completed my B.tech\n",
      "I am Sumanth,I completed my B.tech  \n",
      "  I am Sumanth,I completed my B.tech\n",
      "IamSumanth,IcompletedmyB.tech\n"
     ]
    }
   ],
   "source": [
    "y=\"dhiyotek\"\n",
    "z=\"Dhiyotek\"\n",
    "a=\" DHIYOTEK\"\n",
    "print(y.islower())\n",
    "print(z.istitle())\n",
    "print(a.isupper())\n",
    "print(a.replace(\"H\",\"w\"))\n",
    "print(x.strip())#Removes spaces from both ends\n",
    "print(x.lstrip())#remove spaces on left\n",
    "print(x.rstrip())#remove spaces on right\n",
    "print(x.replace(\" \",\"\"))"
   ]
  },
  {
   "cell_type": "code",
   "execution_count": 24,
   "id": "b34c5faf-d644-49af-a216-1dd1cf7efdc2",
   "metadata": {},
   "outputs": [
    {
     "name": "stdout",
     "output_type": "stream",
     "text": [
      "['', '', 'I', 'am', 'Sumanth,I', 'completed', 'my', 'B.tech', '', '']\n",
      "('  I am Su', 'man', 'th,I completed my B.tech  ')\n",
      "('  I am Sumanth,I compl', 'e', 'ted my B.tech  ')\n"
     ]
    }
   ],
   "source": [
    "#splitting and partition\n",
    "l=x.split(\" \")\n",
    "print(l)\n",
    "k=x.partition(\"man\") # only 3 items willl be generated\n",
    "print(k)\n",
    "m=x.partition(\"e\")\n",
    "print(m)"
   ]
  },
  {
   "cell_type": "code",
   "execution_count": 34,
   "id": "28e63592-1355-4c40-bf11-a1f4dd23d971",
   "metadata": {},
   "outputs": [
    {
     "name": "stdout",
     "output_type": "stream",
     "text": [
      "I%am%sumanth\n",
      "'%I%'%,%'%a%m%'%,%'%o%k%a%y%'\n",
      "I%am%Okay\n"
     ]
    }
   ],
   "source": [
    "#Function join\n",
    "print(\"%\".join([\"I\",\"am\",\"sumanth\"]))#adding the given seperator symbol b/w joinings\n",
    "print(\"%\".join(\"'I','am','okay'\"))#adds % symbol b/e each charecter\n",
    "print(\"%\".join((\"I\",\"am\",\"Okay\"))) # adds between th evariables only \n",
    "#===> DOUBT#1 and 3 difference id 1 takes extra space while 3 prints continuously"
   ]
  },
  {
   "cell_type": "code",
   "execution_count": null,
   "id": "11d6fe31-2e41-4e80-aa04-9e784c27ac13",
   "metadata": {},
   "outputs": [],
   "source": [
    "print(\" \".isspace())\n",
    "print(\"455454\".isdigit())\n",
    "print(\"fersfger\".isalpha())\n",
    "print(\"jhuierf7748\".isalnum())"
   ]
  },
  {
   "cell_type": "code",
   "execution_count": 3,
   "id": "89dcdb36-95fd-4a25-8082-c709f7b189b1",
   "metadata": {},
   "outputs": [
    {
     "name": "stdout",
     "output_type": "stream",
     "text": [
      "False\n",
      "True\n",
      "b'\\xff\\xfe\\x00\\x00 \\x00\\x00\\x00 \\x00\\x00\\x00I\\x00\\x00\\x00 \\x00\\x00\\x00a\\x00\\x00\\x00m\\x00\\x00\\x00 \\x00\\x00\\x00D\\x00\\x00\\x00h\\x00\\x00\\x00i\\x00\\x00\\x00y\\x00\\x00\\x00o\\x00\\x00\\x00t\\x00\\x00\\x00e\\x00\\x00\\x00k\\x00\\x00\\x00,\\x00\\x00\\x00I\\x00\\x00\\x00 \\x00\\x00\\x00c\\x00\\x00\\x00o\\x00\\x00\\x00m\\x00\\x00\\x00p\\x00\\x00\\x00l\\x00\\x00\\x00e\\x00\\x00\\x00t\\x00\\x00\\x00e\\x00\\x00\\x00d\\x00\\x00\\x00 \\x00\\x00\\x00m\\x00\\x00\\x00y\\x00\\x00\\x00 \\x00\\x00\\x00B\\x00\\x00\\x00.\\x00\\x00\\x00t\\x00\\x00\\x00e\\x00\\x00\\x00c\\x00\\x00\\x00h\\x00\\x00\\x00 \\x00\\x00\\x00 \\x00\\x00\\x00'\n",
      "  I am Dhiyotek,I completed my B.tech  \n"
     ]
    }
   ],
   "source": [
    "#strats with and ends with encode and decode\n",
    "print(x.endswith(\"k  \"))\n",
    "print(x.startswith(\"  \"))\n",
    "encoded=x.encode('utf32')\n",
    "print(encoded)\n",
    "decoded=encoded.decode('utf32')\n",
    "print(decoded)"
   ]
  },
  {
   "cell_type": "code",
   "execution_count": null,
   "id": "de12319a-4135-4f4c-ad0a-ac2311e83f66",
   "metadata": {},
   "outputs": [],
   "source": []
  }
 ],
 "metadata": {
  "kernelspec": {
   "display_name": "Python 3 (ipykernel)",
   "language": "python",
   "name": "python3"
  },
  "language_info": {
   "codemirror_mode": {
    "name": "ipython",
    "version": 3
   },
   "file_extension": ".py",
   "mimetype": "text/x-python",
   "name": "python",
   "nbconvert_exporter": "python",
   "pygments_lexer": "ipython3",
   "version": "3.11.5"
  }
 },
 "nbformat": 4,
 "nbformat_minor": 5
}
