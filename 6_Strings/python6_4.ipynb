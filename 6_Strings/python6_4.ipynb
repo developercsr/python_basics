{
 "cells": [
  {
   "cell_type": "code",
   "execution_count": 3,
   "id": "2de480a5-d9d6-4eaf-a684-2a614fb0ce6b",
   "metadata": {},
   "outputs": [
    {
     "name": "stdout",
     "output_type": "stream",
     "text": [
      "Hii namste\n",
      "i am sumanth\n",
      "i m working in dhiyotech.indianprivatelimited.\n",
      "   i am a react.JS developer and data scientist\n",
      "re.compile('Hii namste\\ni am sumanth\\ni m working in dhiyotech.indianprivatelimited.\\n   i am a react.JS developer and data scientist')\n"
     ]
    }
   ],
   "source": [
    "import re\n",
    "string=\"\"\"Hii namste\n",
    "i am sumanth\n",
    "i m working in dhiyotech.indianprivatelimited.\n",
    "   i am a react.JS developer and data scientist\"\"\"\n",
    "string1=\"\"#empty string\n",
    "regobj=re.compile(string)#THIS IS AN regx object\n",
    "print(string)\n",
    "print(regobj)"
   ]
  },
  {
   "cell_type": "code",
   "execution_count": 10,
   "id": "061bd766-b0f4-42c5-95e4-150252681d85",
   "metadata": {},
   "outputs": [
    {
     "name": "stdout",
     "output_type": "stream",
     "text": [
      "<re.Match object; span=(18, 21), match='man'>\n",
      "<re.Match object; span=(18, 21), match='man'>\n"
     ]
    }
   ],
   "source": [
    "searchfor=\"man\"\n",
    "objforsearch=re.compile(searchfor)\n",
    "print(objforsearch.search(string))          #THis is same as below\n",
    "print(re.search(searchfor,string))"
   ]
  },
  {
   "cell_type": "code",
   "execution_count": 54,
   "id": "765a4a23-4118-4bd1-951e-07b636608b14",
   "metadata": {},
   "outputs": [
    {
     "name": "stdout",
     "output_type": "stream",
     "text": [
      "<re.Match object; span=(0, 2), match='Hi'>\n",
      "(0, 2)\n",
      "0\n",
      "2\n"
     ]
    }
   ],
   "source": [
    "#re.match ==> matches from the starting of the given string\n",
    "print(re.match(\"Hi\",string))#we can give flags also we will see them as follows as it is optional\n",
    "#From atching we can find some more like span ,start, and end \n",
    "match=re.match(\"Hi\",string)\n",
    "print(match.span())#it return in tupke format\n",
    "print(match.start())\n",
    "print(match.end())"
   ]
  },
  {
   "cell_type": "code",
   "execution_count": 55,
   "id": "c46dca25-9954-4f06-a485-cf0f438714f2",
   "metadata": {
    "scrolled": true
   },
   "outputs": [
    {
     "name": "stdout",
     "output_type": "stream",
     "text": [
      "('man', 'orking')\n",
      "Hii i am sumanth.i m working \n",
      "Hii i am sumanth.i m working \n",
      "('man', 'orking')\n",
      "('man', 'orking')\n"
     ]
    }
   ],
   "source": [
    "#associated with search we can fid much more with matching\n",
    "teststring=\"Hii i am ssumanth.i m working in dhioteh.pvt frompast week\"\n",
    "searchedobj=re.search('.*(ma*n).*(orking).',teststring)\n",
    "print(searchedobj.groups())\n",
    "print(searchedobj.group())\n",
    "print(searchedobj.group(0))\n",
    "print(searchedobj.groups(1))\n",
    "print(searchedobj.groups(2))\n",
    "#if not found we will get an Attribute Error"
   ]
  },
  {
   "cell_type": "code",
   "execution_count": 65,
   "id": "f003fa61-747a-405f-becd-9aec8cc7e965",
   "metadata": {},
   "outputs": [
    {
     "name": "stdout",
     "output_type": "stream",
     "text": [
      "Hii i am SSSSumanth.i m working in dhioteh.pvt frompaSSt week\n"
     ]
    }
   ],
   "source": [
    "teststring=\"Hii i am sSumanth.i m working in dhioteh.pvt frompast week\"\n",
    "print(re.sub(\"s\",\"SS\",teststring,flags=re.I))"
   ]
  },
  {
   "cell_type": "code",
   "execution_count": 67,
   "id": "e4218ea4-bdf1-4e23-8bb2-1f35471202fc",
   "metadata": {},
   "outputs": [
    {
     "name": "stdout",
     "output_type": "stream",
     "text": [
      "Hii i am SSSSumanth.i m SS s S working in dhioteh.pvt frompast week\n"
     ]
    }
   ],
   "source": [
    "teststring=\"Hii i am sSumanth.i m s s S working in dhioteh.pvt frompast week\"\n",
    "print(re.sub(\"s\",\"SS\",teststring,3,flags=re.I))"
   ]
  },
  {
   "cell_type": "code",
   "execution_count": 70,
   "id": "6edfce67-7eba-4d95-8c32-d9e02b94219a",
   "metadata": {},
   "outputs": [
    {
     "name": "stdout",
     "output_type": "stream",
     "text": [
      "None\n",
      "<re.Match object; span=(0, 64), match='Hii i am sSumanth.i m s s S working in dhioteh.pv>\n"
     ]
    }
   ],
   "source": [
    "#full match will be true only if the pattren matches completely else it will False\n",
    "teststring=\"Hii i am sSumanth.i m s s S working in dhioteh.pvt frompast week\"\n",
    "print(re.fullmatch(\"Hello\",teststring))\n",
    "print(re.fullmatch(\"Hii i am sSumanth.i m s s S working in dhioteh.pvt frompast week\",teststring))"
   ]
  },
  {
   "cell_type": "code",
   "execution_count": 73,
   "id": "ff40b9f5-b6ba-49bc-8b55-b692c5e4c167",
   "metadata": {},
   "outputs": [
    {
     "name": "stdout",
     "output_type": "stream",
     "text": [
      "<class 'callable_iterator'>\n",
      "<re.Match object; span=(12, 14), match='is'>\n",
      "<re.Match object; span=(14, 16), match='is'>\n",
      "<re.Match object; span=(17, 19), match='is'>\n",
      "<re.Match object; span=(20, 22), match='is'>\n"
     ]
    }
   ],
   "source": [
    "tests=\"abcd abcd thisis issis for justest test\"\n",
    "iter=re.finditer(\"is\",tests)\n",
    "print(type(iter))\n",
    "for i in iter:\n",
    "    print(i)"
   ]
  },
  {
   "cell_type": "code",
   "execution_count": 75,
   "id": "86d78824-7afb-4708-9eff-a4599350da1a",
   "metadata": {},
   "outputs": [
    {
     "ename": "TypeError",
     "evalue": "'maxsplit' is an invalid keyword argument for print()",
     "output_type": "error",
     "traceback": [
      "\u001b[1;31m---------------------------------------------------------------------------\u001b[0m",
      "\u001b[1;31mTypeError\u001b[0m                                 Traceback (most recent call last)",
      "Cell \u001b[1;32mIn[75], line 3\u001b[0m\n\u001b[0;32m      1\u001b[0m \u001b[38;5;66;03m#splitting\u001b[39;00m\n\u001b[0;32m      2\u001b[0m tests\u001b[38;5;241m=\u001b[39m\u001b[38;5;124m\"\u001b[39m\u001b[38;5;124mabcd abcd thisis issis for justest test\u001b[39m\u001b[38;5;124m\"\u001b[39m\n\u001b[1;32m----> 3\u001b[0m \u001b[38;5;28;43mprint\u001b[39;49m\u001b[43m(\u001b[49m\u001b[43mre\u001b[49m\u001b[38;5;241;43m.\u001b[39;49m\u001b[43msplit\u001b[49m\u001b[43m(\u001b[49m\u001b[38;5;124;43m\"\u001b[39;49m\u001b[38;5;124;43m \u001b[39;49m\u001b[38;5;124;43m\"\u001b[39;49m\u001b[43m,\u001b[49m\u001b[43mtests\u001b[49m\u001b[43m)\u001b[49m\u001b[43m,\u001b[49m\u001b[43mmaxsplit\u001b[49m\u001b[38;5;241;43m=\u001b[39;49m\u001b[38;5;241;43m0\u001b[39;49m\u001b[43m)\u001b[49m\n\u001b[0;32m      4\u001b[0m \u001b[38;5;28mprint\u001b[39m(re\u001b[38;5;241m.\u001b[39msplit(\u001b[38;5;124m\"\u001b[39m\u001b[38;5;124m \u001b[39m\u001b[38;5;124m\"\u001b[39m,tests),maxsplit\u001b[38;5;241m=\u001b[39m\u001b[38;5;241m0\u001b[39m)\n",
      "\u001b[1;31mTypeError\u001b[0m: 'maxsplit' is an invalid keyword argument for print()"
     ]
    }
   ],
   "source": [
    "#splitting\n",
    "tests=\"abcd abcd thisis issis for justest test\"\n",
    "print(re.split(\" \",tests),maxsplit=0)\n",
    "print(re.split(\" \",tests),maxsplit=0)\n"
   ]
  },
  {
   "cell_type": "code",
   "execution_count": null,
   "id": "544d7f6c-df80-4e3a-8f0c-7b3aa4872cf8",
   "metadata": {},
   "outputs": [],
   "source": []
  }
 ],
 "metadata": {
  "kernelspec": {
   "display_name": "Python 3 (ipykernel)",
   "language": "python",
   "name": "python3"
  },
  "language_info": {
   "codemirror_mode": {
    "name": "ipython",
    "version": 3
   },
   "file_extension": ".py",
   "mimetype": "text/x-python",
   "name": "python",
   "nbconvert_exporter": "python",
   "pygments_lexer": "ipython3",
   "version": "3.11.5"
  }
 },
 "nbformat": 4,
 "nbformat_minor": 5
}
