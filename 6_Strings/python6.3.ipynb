{
 "cells": [
  {
   "cell_type": "code",
   "execution_count": 3,
   "id": "2de480a5-d9d6-4eaf-a684-2a614fb0ce6b",
   "metadata": {},
   "outputs": [
    {
     "name": "stdout",
     "output_type": "stream",
     "text": [
      "Hii namste\n",
      "i am sumanth\n",
      "i m working in dhiyotech.indianprivatelimited.\n",
      "   i am a react.JS developer and data scientist\n",
      "re.compile('Hii namste\\ni am sumanth\\ni m working in dhiyotech.indianprivatelimited.\\n   i am a react.JS developer and data scientist')\n"
     ]
    }
   ],
   "source": [
    "import re\n",
    "string=\"\"\"Hii namste\n",
    "i am sumanth\n",
    "i m working in dhiyotech.indianprivatelimited.\n",
    "   i am a react.JS developer and data scientist\"\"\"\n",
    "string1=\"\"#empty string\n",
    "regobj=re.compile(string)#THIS IS AN regx object\n",
    "print(string)\n",
    "print(regobj)"
   ]
  },
  {
   "cell_type": "code",
   "execution_count": 10,
   "id": "061bd766-b0f4-42c5-95e4-150252681d85",
   "metadata": {},
   "outputs": [
    {
     "name": "stdout",
     "output_type": "stream",
     "text": [
      "<re.Match object; span=(18, 21), match='man'>\n",
      "<re.Match object; span=(18, 21), match='man'>\n"
     ]
    }
   ],
   "source": [
    "searchfor=\"man\"\n",
    "objforsearch=re.compile(searchfor)\n",
    "print(objforsearch.search(string))          #THis is same as below\n",
    "print(re.search(searchfor,string))"
   ]
  },
  {
   "cell_type": "code",
   "execution_count": null,
   "id": "765a4a23-4118-4bd1-951e-07b636608b14",
   "metadata": {},
   "outputs": [],
   "source": [
    "#re.match ==> matches from the starting of the given string\n",
    "print(re.match(\"Hi\",string))#we can give flags also we will see them as follows as it is optional\n",
    "#From atching we can find some more like span ,start, and end \n",
    "match=re.match(\"Hi\",string)\n",
    "print(match.span())#it return in tupke format\n",
    "print(match.start())\n",
    "print(match.end())"
   ]
  },
  {
   "cell_type": "code",
   "execution_count": 2,
   "id": "c46dca25-9954-4f06-a485-cf0f438714f2",
   "metadata": {},
   "outputs": [
    {
     "ename": "NameError",
     "evalue": "name 're' is not defined",
     "output_type": "error",
     "traceback": [
      "\u001b[1;31m---------------------------------------------------------------------------\u001b[0m",
      "\u001b[1;31mNameError\u001b[0m                                 Traceback (most recent call last)",
      "Cell \u001b[1;32mIn[2], line 2\u001b[0m\n\u001b[0;32m      1\u001b[0m \u001b[38;5;66;03m#associated with search we can fid much more with matching\u001b[39;00m\n\u001b[1;32m----> 2\u001b[0m searchedobj\u001b[38;5;241m=\u001b[39m\u001b[43mre\u001b[49m\u001b[38;5;241m.\u001b[39msearch(\u001b[38;5;124m'\u001b[39m\u001b[38;5;124m(*man (.*man?) (.*man?))\u001b[39m\u001b[38;5;124m'\u001b[39m,string)\n\u001b[0;32m      3\u001b[0m \u001b[38;5;28mprint\u001b[39m(serachedobj\u001b[38;5;241m.\u001b[39mgroup())\u001b[38;5;66;03m#or we can use group(0)\u001b[39;00m\n\u001b[0;32m      4\u001b[0m \u001b[38;5;28mprint\u001b[39m(serachedobj\u001b[38;5;241m.\u001b[39mgroup(\u001b[38;5;241m1\u001b[39m))\n",
      "\u001b[1;31mNameError\u001b[0m: name 're' is not defined"
     ]
    }
   ],
   "source": [
    "#associated with search we can fid much more with matching\n",
    "searchedobj=re.search('(*man (.*man?) (.*man?))',string)\n",
    "print(serachedobj.group())#or we can use group(0)\n",
    "print(serachedobj.group(1))\n",
    "print(serachedobj.group(2))"
   ]
  },
  {
   "cell_type": "code",
   "execution_count": null,
   "id": "1e33ea78-036d-4bf0-8526-baee206c4b24",
   "metadata": {},
   "outputs": [],
   "source": []
  },
  {
   "cell_type": "code",
   "execution_count": null,
   "id": "dd5f6511-8e4c-4d8c-a4ca-c7a1a3c6f5eb",
   "metadata": {},
   "outputs": [],
   "source": []
  }
 ],
 "metadata": {
  "kernelspec": {
   "display_name": "Python 3 (ipykernel)",
   "language": "python",
   "name": "python3"
  },
  "language_info": {
   "codemirror_mode": {
    "name": "ipython",
    "version": 3
   },
   "file_extension": ".py",
   "mimetype": "text/x-python",
   "name": "python",
   "nbconvert_exporter": "python",
   "pygments_lexer": "ipython3",
   "version": "3.11.5"
  }
 },
 "nbformat": 4,
 "nbformat_minor": 5
}
