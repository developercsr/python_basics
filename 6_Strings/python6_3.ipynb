{
 "cells": [
  {
   "cell_type": "code",
   "execution_count": 3,
   "id": "2de480a5-d9d6-4eaf-a684-2a614fb0ce6b",
   "metadata": {},
   "outputs": [
    {
     "name": "stdout",
     "output_type": "stream",
     "text": [
      "Hii namste\n",
      "i am sumanth\n",
      "i m working in dhiyotech.indianprivatelimited.\n",
      "   i am a react.JS developer and data scientist\n",
      "re.compile('Hii namste\\ni am sumanth\\ni m working in dhiyotech.indianprivatelimited.\\n   i am a react.JS developer and data scientist')\n"
     ]
    }
   ],
   "source": [
    "import re\n",
    "string=\"\"\"Hii namste\n",
    "i am sumanth\n",
    "i m working in dhiyotech.indianprivatelimited.\n",
    "   i am a react.JS developer and data scientist\"\"\"\n",
    "string1=\"\"#empty string\n",
    "regobj=re.compile(string)#THIS IS AN regx object\n",
    "print(string)\n",
    "print(regobj)"
   ]
  },
  {
   "cell_type": "code",
   "execution_count": 10,
   "id": "061bd766-b0f4-42c5-95e4-150252681d85",
   "metadata": {},
   "outputs": [
    {
     "name": "stdout",
     "output_type": "stream",
     "text": [
      "<re.Match object; span=(18, 21), match='man'>\n",
      "<re.Match object; span=(18, 21), match='man'>\n"
     ]
    }
   ],
   "source": [
    "searchfor=\"man\"\n",
    "objforsearch=re.compile(searchfor)\n",
    "print(objforsearch.search(string))          #THis is same as below\n",
    "print(re.search(searchfor,string))"
   ]
  },
  {
   "cell_type": "code",
   "execution_count": 54,
   "id": "765a4a23-4118-4bd1-951e-07b636608b14",
   "metadata": {},
   "outputs": [
    {
     "name": "stdout",
     "output_type": "stream",
     "text": [
      "<re.Match object; span=(0, 2), match='Hi'>\n",
      "(0, 2)\n",
      "0\n",
      "2\n"
     ]
    }
   ],
   "source": [
    "#re.match ==> matches from the starting of the given string\n",
    "print(re.match(\"Hi\",string))#we can give flags also we will see them as follows as it is optional\n",
    "#From atching we can find some more like span ,start, and end \n",
    "match=re.match(\"Hi\",string)\n",
    "print(match.span())#it return in tupke format\n",
    "print(match.start())\n",
    "print(match.end())"
   ]
  },
  {
   "cell_type": "code",
   "execution_count": 55,
   "id": "c46dca25-9954-4f06-a485-cf0f438714f2",
   "metadata": {
    "scrolled": true
   },
   "outputs": [
    {
     "name": "stdout",
     "output_type": "stream",
     "text": [
      "('man', 'orking')\n",
      "Hii i am sumanth.i m working \n",
      "Hii i am sumanth.i m working \n",
      "('man', 'orking')\n",
      "('man', 'orking')\n"
     ]
    }
   ],
   "source": [
    "#associated with search we can fid much more with matching\n",
    "teststring=\"Hii i am ssumanth.i m working in dhioteh.pvt frompast week\"\n",
    "searchedobj=re.search('.*(ma*n).*(orking).',teststring)\n",
    "print(searchedobj.groups())\n",
    "print(searchedobj.group())\n",
    "print(searchedobj.group(0))\n",
    "print(searchedobj.groups(1))\n",
    "print(searchedobj.groups(2))\n",
    "#if not found we will get an Attribute Error"
   ]
  },
  {
   "cell_type": "code",
   "execution_count": 65,
   "id": "f003fa61-747a-405f-becd-9aec8cc7e965",
   "metadata": {},
   "outputs": [
    {
     "name": "stdout",
     "output_type": "stream",
     "text": [
      "Hii i am SSSSumanth.i m working in dhioteh.pvt frompaSSt week\n"
     ]
    }
   ],
   "source": [
    "teststring=\"Hii i am sSumanth.i m working in dhioteh.pvt frompast week\"\n",
    "print(re.sub(\"s\",\"SS\",teststring,flags=re.I))"
   ]
  },
  {
   "cell_type": "code",
   "execution_count": 67,
   "id": "e4218ea4-bdf1-4e23-8bb2-1f35471202fc",
   "metadata": {},
   "outputs": [
    {
     "name": "stdout",
     "output_type": "stream",
     "text": [
      "Hii i am SSSSumanth.i m SS s S working in dhioteh.pvt frompast week\n"
     ]
    }
   ],
   "source": [
    "teststring=\"Hii i am sSumanth.i m s s S working in dhioteh.pvt frompast week\"\n",
    "print(re.sub(\"s\",\"SS\",teststring,3,flags=re.I))"
   ]
  },
  {
   "cell_type": "code",
   "execution_count": 70,
   "id": "6edfce67-7eba-4d95-8c32-d9e02b94219a",
   "metadata": {},
   "outputs": [
    {
     "name": "stdout",
     "output_type": "stream",
     "text": [
      "None\n",
      "<re.Match object; span=(0, 64), match='Hii i am sSumanth.i m s s S working in dhioteh.pv>\n"
     ]
    }
   ],
   "source": [
    "#full match will be true only if the pattren matches completely else it will False\n",
    "teststring=\"Hii i am sSumanth.i m s s S working in dhioteh.pvt frompast week\"\n",
    "print(re.fullmatch(\"Hello\",teststring))\n",
    "print(re.fullmatch(\"Hii i am sSumanth.i m s s S working in dhioteh.pvt frompast week\",teststring))"
   ]
  },
  {
   "cell_type": "code",
   "execution_count": 10,
   "id": "ff40b9f5-b6ba-49bc-8b55-b692c5e4c167",
   "metadata": {},
   "outputs": [
    {
     "name": "stdout",
     "output_type": "stream",
     "text": [
      "<class 'callable_iterator'>\n",
      "<re.Match object; span=(12, 14), match='is'>\n",
      "<re.Match object; span=(14, 16), match='is'>\n",
      "<re.Match object; span=(17, 19), match='is'>\n",
      "<re.Match object; span=(20, 22), match='is'>\n"
     ]
    }
   ],
   "source": [
    "tests=\"abcd abcd thisis issis for justest test\"\n",
    "iter=re.finditer(\"is\",tests)\n",
    "print(type(iter))\n",
    "for i in iter:\n",
    "    print(i)"
   ]
  },
  {
   "cell_type": "code",
   "execution_count": 7,
   "id": "86d78824-7afb-4708-9eff-a4599350da1a",
   "metadata": {},
   "outputs": [
    {
     "name": "stdout",
     "output_type": "stream",
     "text": [
      "['abcd', 'abcd', 'thisis', 'issis', 'for', 'justest', 'test']\n",
      "['abcd', 'abcd thisis issis for justest test']\n"
     ]
    }
   ],
   "source": [
    "#splitting\n",
    "import re\n",
    "tests=\"abcd abcd thisis issis for justest test\"\n",
    "sim=\" \"\n",
    "print(re.split(sim,tests,maxsplit=0))\n",
    "print(re.split(sim,tests,maxsplit=1))\n"
   ]
  },
  {
   "cell_type": "code",
   "execution_count": 9,
   "id": "de998d65-24f6-4122-b26e-1ed207bc2651",
   "metadata": {},
   "outputs": [
    {
     "name": "stdout",
     "output_type": "stream",
     "text": [
      "\\&\\&\\^\\$%\\$%%\\$\\#\\$%@\\$\\#\\.,\\.,@\\$\\#@\\$\\#\n"
     ]
    }
   ],
   "source": [
    "#Escape ==> escapeds the special pattrens\n",
    "tete=\"&&^$%$%%$#$%@$#.,.,@$#@$#\"#All are specail pattrens\n",
    "print(re.escape(tete))"
   ]
  },
  {
   "cell_type": "code",
   "execution_count": 23,
   "id": "4f197382-0c97-4b97-b22a-d24812f436fe",
   "metadata": {},
   "outputs": [
    {
     "name": "stdout",
     "output_type": "stream",
     "text": [
      "<re.Match object; span=(0, 5), match='123ab'>\n",
      "<re.Match object; span=(0, 5), match='123ab'>\n"
     ]
    }
   ],
   "source": [
    "#purge() ==> clears the regular expression cache\n",
    "import re\n",
    "test1=\"123abc\"\n",
    "pt=\"\\d\\d...\"\n",
    "print(re.search(pt,test1))\n",
    "re.purge()\n",
    "print(re.search(pt,test1))\n",
    "##===>> DOUBT concept"
   ]
  },
  {
   "cell_type": "code",
   "execution_count": 62,
   "id": "d23083a5-6d98-4d88-86d6-195b9e8b7a05",
   "metadata": {},
   "outputs": [
    {
     "name": "stdout",
     "output_type": "stream",
     "text": [
      "<re.Match object; span=(0, 2), match='13'>\n",
      "<re.Match object; span=(12, 14), match='44'>\n",
      "*3* 1323abcds12344\n",
      "<re.Match object; span=(0, 2), match='13'>\n",
      "<re.Match object; span=(12, 14), match='44'>\n",
      "<re.Match object; span=(8, 10), match='s1'>\n",
      "<re.Match object; span=(4, 5), match='a'>\n",
      "<re.Match object; span=(0, 14), match='1323abcds12344'>\n",
      "<re.Match object; span=(4, 6), match='ab'>\n",
      "None\n",
      "None\n",
      "<re.Match object; span=(0, 5), match='1323a'>\n"
     ]
    }
   ],
   "source": [
    "#SPECIAL SEQUENCES\n",
    "import re\n",
    "tet=\"1323abcds12344\"\n",
    "pt1=\"^13\"#Matches from starting\n",
    "print(re.search(pt1,tet))\n",
    "print(re.search(\"44$\",tet))\n",
    "print(\"*3*\",tet)#* should used to check for before the first element \n",
    "print(re.search(\"13*\",tet))\n",
    "print(re.search(\"44\",tet))\n",
    "print(re.search(\".1\",tet))\n",
    "print(re.search(\"a\",tet))\n",
    "print(re.search(\"\\d..*\\d\\d\",tet))\n",
    "print(re.search(\"a(b|c)\",tet))\n",
    "print(re.search(\"\\d\\d\\\\d\\dd+a\",tet))\n",
    "print(re.search(\"\\d\\d\\d\\d\\dd+a\",tet))\n",
    "print(re.search(\"\\d\\d\\d\\d+a\",tet))"
   ]
  },
  {
   "cell_type": "code",
   "execution_count": 75,
   "id": "441dd973-f1d6-4dc7-bce3-63d69c18f8d5",
   "metadata": {},
   "outputs": [
    {
     "name": "stdout",
     "output_type": "stream",
     "text": [
      "<re.Match object; span=(0, 2), match='13'>\n",
      "<re.Match object; span=(0, 4), match='1323'>\n",
      "<re.Match object; span=(0, 4), match='1323'>\n",
      "<re.Match object; span=(0, 4), match='1323'>\n",
      "<re.Match object; span=(0, 4), match='1323'>\n",
      "<re.Match object; span=(1, 2), match='3'>\n"
     ]
    }
   ],
   "source": [
    "import re\n",
    "tet=\"1323abcd  s12344\"\n",
    "print(re.search(\"^1?3\",tet))\n",
    "print(re.search(\"\\d{3}.\",tet))\n",
    "print(re.search(\"\\d{,4}\",tet))\n",
    "print(re.search(\"\\d{1,}\",tet))\n",
    "print(re.search(\"\\d{1,4}\",tet))"
   ]
  },
  {
   "cell_type": "code",
   "execution_count": 105,
   "id": "3c72b94c-40b0-4e86-9970-3df01148bd06",
   "metadata": {},
   "outputs": [
    {
     "name": "stdout",
     "output_type": "stream",
     "text": [
      "<re.Match object; span=(0, 1), match='1'>\n",
      "<re.Match object; span=(1, 2), match='3'>\n",
      "<re.Match object; span=(1, 2), match='3'>\n",
      "<re.Match object; span=(14, 15), match='4'>\n",
      "<re.Match object; span=(4, 5), match='a'>\n",
      "<re.Match object; span=(4, 5), match='a'>\n",
      "<re.Match object; span=(0, 1), match='1'>\n",
      "<re.Match object; span=(4, 5), match='a'>\n",
      "<re.Match object; span=(14, 15), match='4'>\n",
      "<re.Match object; span=(0, 1), match='1'>\n",
      "<re.Match object; span=(8, 9), match=' '>\n",
      "<re.Match object; span=(0, 1), match='1'>\n",
      "<re.Match object; span=(4, 5), match='a'>\n",
      "<re.Match object; span=(14, 15), match='4'>\n",
      "<re.Match object; span=(0, 1), match='1'>\n"
     ]
    }
   ],
   "source": [
    "import re\n",
    "tet=\"1323abcd  s12344\"\n",
    "print(re.search((\"[1234]\"),tet))\n",
    "print(re.search((\"[234]\"),tet))\n",
    "print(re.search((\"[34]\"),tet))\n",
    "print(re.search((\"[4]\"),tet))\n",
    "print(re.search((\"[A-z]\"),tet))\n",
    "print(re.search((\"[a-z]\"),tet))\n",
    "print(re.search((\"[0-9]\"),tet))\n",
    "print(re.search((\"[a\\-9]\"),tet))\n",
    "print(re.search((\"[4-5]\"),tet))\n",
    "print(re.search((\"[\\d]\"),tet))\n",
    "print(re.search((\"[\\s]\"),tet))\n",
    "print(re.search((\"[\\S]\"),tet))\n",
    "print(re.search((\"[\\D]\"),tet))\n",
    "print(re.search((\"[44\\b]\"),tet)) #WHY\n",
    "print(re.search((\"[\\b1]\"),tet))\n",
    "#print(re.search((\"[3\\B]\"),tet))\n",
    "#print(re.search((\"[\\B44]\"),tet))\n",
    "#First checks the place with all given elements\n",
    "#\\Z,\\B,\\W,\\w"
   ]
  },
  {
   "cell_type": "code",
   "execution_count": null,
   "id": "b9a698a5-e89b-43f5-aa70-a3ae29d9abb0",
   "metadata": {},
   "outputs": [],
   "source": []
  }
 ],
 "metadata": {
  "kernelspec": {
   "display_name": "Python 3 (ipykernel)",
   "language": "python",
   "name": "python3"
  },
  "language_info": {
   "codemirror_mode": {
    "name": "ipython",
    "version": 3
   },
   "file_extension": ".py",
   "mimetype": "text/x-python",
   "name": "python",
   "nbconvert_exporter": "python",
   "pygments_lexer": "ipython3",
   "version": "3.11.5"
  }
 },
 "nbformat": 4,
 "nbformat_minor": 5
}
