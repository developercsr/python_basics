{
 "cells": [
  {
   "cell_type": "code",
   "execution_count": 2,
   "metadata": {},
   "outputs": [],
   "source": [
    "# conditional Stetements are\n",
    "#1.if\n",
    "Age=int(input(\"Enter your age : \"))\n",
    "if Age>=18:\n",
    "    print(\"Eligible for voting!\")"
   ]
  },
  {
   "cell_type": "code",
   "execution_count": 3,
   "metadata": {},
   "outputs": [
    {
     "name": "stdout",
     "output_type": "stream",
     "text": [
      "Eligible for voting!\n"
     ]
    }
   ],
   "source": [
    "#2.if....else\n",
    "Age=int(input(\"Enter your age : \"))\n",
    "if Age>=18:\n",
    "    print(\"Eligible for voting!\")\n",
    "else:\n",
    "    print(\"Not Eligible for Voting\")"
   ]
  },
  {
   "cell_type": "code",
   "execution_count": 4,
   "metadata": {},
   "outputs": [
    {
     "name": "stdout",
     "output_type": "stream",
     "text": [
      "Distinction\n"
     ]
    }
   ],
   "source": [
    "#if....elif...else\n",
    "marks=int(input(\"Enter student Marks : \"))\n",
    "if 0<=marks<35:\n",
    "    print(\"Fail\")\n",
    "elif 35<=marks<50:\n",
    "    print(\"Passd 1 st class\")\n",
    "elif 50<=marks<=100:\n",
    "    print(\"Distinction\")\n",
    "else:\n",
    "    print(\"Invalid\")"
   ]
  },
  {
   "cell_type": "code",
   "execution_count": 3,
   "metadata": {},
   "outputs": [
    {
     "name": "stdout",
     "output_type": "stream",
     "text": [
      "Email Authentication!\n",
      "Password is Incorrect\n"
     ]
    }
   ],
   "source": [
    "#if..else..nested\n",
    "correct_email=\"dhiyotek@gmail.com\"\n",
    "correct_passord=\"63012321\"\n",
    "print(\"Email Authentication!\")\n",
    "email=input(\"Enter your Email : \")\n",
    "if email==correct_email:\n",
    "    password=input(\"Enter your Password : \")\n",
    "    if password==correct_passord:\n",
    "        print(\"Login Successfull\")\n",
    "    else:\n",
    "        print(\"Password is Incorrect\")\n",
    "else:\n",
    "    print(\"wrong email\")\n"
   ]
  },
  {
   "cell_type": "code",
   "execution_count": null,
   "metadata": {},
   "outputs": [],
   "source": []
  }
 ],
 "metadata": {
  "kernelspec": {
   "display_name": "Python 3",
   "language": "python",
   "name": "python3"
  },
  "language_info": {
   "codemirror_mode": {
    "name": "ipython",
    "version": 3
   },
   "file_extension": ".py",
   "mimetype": "text/x-python",
   "name": "python",
   "nbconvert_exporter": "python",
   "pygments_lexer": "ipython3",
   "version": "3.11.5"
  }
 },
 "nbformat": 4,
 "nbformat_minor": 2
}
