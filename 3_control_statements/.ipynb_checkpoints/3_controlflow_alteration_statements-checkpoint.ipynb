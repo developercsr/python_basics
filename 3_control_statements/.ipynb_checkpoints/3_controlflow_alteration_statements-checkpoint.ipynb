{
 "cells": [
  {
   "cell_type": "code",
   "execution_count": 12,
   "metadata": {},
   "outputs": [
    {
     "name": "stdout",
     "output_type": "stream",
     "text": [
      "1 2 3 4 5 6 7 8 9 10 11 12 13 14 15 16 17 18 19 20 21 22 23 24 25 "
     ]
    }
   ],
   "source": [
    "#break\n",
    "#Trying to print numbers from 1 to 100 ,keeping break when the number 25\n",
    "for number in range(1,101):\n",
    "    print(number,end=\" \")\n",
    "    if number==25:\n",
    "        break"
   ]
  },
  {
   "cell_type": "code",
   "execution_count": 13,
   "metadata": {},
   "outputs": [
    {
     "name": "stdout",
     "output_type": "stream",
     "text": [
      "1 3 5 7 9 11 13 15 17 19 21 23 25 "
     ]
    }
   ],
   "source": [
    "#continue\n",
    "#Trying to print numbers from 1 to 100 ,keeping break when the number 25\n",
    "for number in range(1,26):\n",
    "    if number%2==0:\n",
    "        continue\n",
    "    print(number,end=\" \")"
   ]
  },
  {
   "cell_type": "code",
   "execution_count": 14,
   "metadata": {},
   "outputs": [
    {
     "name": "stdout",
     "output_type": "stream",
     "text": [
      "pass is a stement used to only to fill empty functions or empty loops\n"
     ]
    }
   ],
   "source": [
    "#pass\n",
    "for number in range(1,100):\n",
    "    pass\n",
    "print(\"pass is a stement used to only to fill empty functions or empty loops\")"
   ]
  },
  {
   "cell_type": "code",
   "execution_count": 15,
   "metadata": {},
   "outputs": [
    {
     "name": "stdout",
     "output_type": "stream",
     "text": [
      "Number 6 not found in the list.\n"
     ]
    }
   ],
   "source": [
    "#for else loop\n",
    "numbers = [1, 2, 3, 4, 5] #Here numbers is a list , what is we can see in on going topics\n",
    "for number in numbers:\n",
    "    if number == 6:\n",
    "        print(\"Number 6 found!\")\n",
    "        break\n",
    "else:\n",
    "    print(\"Number 6 not found in the list.\")\n"
   ]
  },
  {
   "cell_type": "code",
   "execution_count": 16,
   "metadata": {},
   "outputs": [
    {
     "name": "stdout",
     "output_type": "stream",
     "text": [
      "Counter value is: 0\n",
      "Counter value is: 1\n",
      "Counter value is: 2\n",
      "Counter value is: 3\n",
      "Counter value is: 4\n",
      "Counter is no longer less than 5.\n"
     ]
    }
   ],
   "source": [
    "#while loop exanple\n",
    "counter = 0\n",
    "\n",
    "while counter < 5:\n",
    "    print(\"Counter value is:\", counter)\n",
    "    counter += 1\n",
    "    \"\"\"if counter==2:\n",
    "        break\n",
    "    Not ehrn it is breaked\"\"\"\n",
    "else:\n",
    "    print(\"Counter is no longer less than 5.\")\n"
   ]
  }
 ],
 "metadata": {
  "kernelspec": {
   "display_name": "Python 3",
   "language": "python",
   "name": "python3"
  },
  "language_info": {
   "codemirror_mode": {
    "name": "ipython",
    "version": 3
   },
   "file_extension": ".py",
   "mimetype": "text/x-python",
   "name": "python",
   "nbconvert_exporter": "python",
   "pygments_lexer": "ipython3",
   "version": "3.11.5"
  }
 },
 "nbformat": 4,
 "nbformat_minor": 2
}
